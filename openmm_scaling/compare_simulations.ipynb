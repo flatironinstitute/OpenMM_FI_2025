{
 "cells": [
  {
   "cell_type": "code",
   "execution_count": null,
   "id": "82c1cde9",
   "metadata": {},
   "outputs": [],
   "source": [
    "import matplotlib.pyplot as plt\n",
    "\n",
    "systems = [\"Chignolin (CPU)\", \"Chignolin (GPU)\", \"CD27:CD70 complex (GPU)\"]\n",
    "atom_counts = [2333, 2333, 96694]\n",
    "speeds = [86.2, 2080, 322]  # in ns/day\n",
    "\n",
    "# Create plot\n",
    "fig, ax1 = plt.subplots(figsize=(10, 6))\n",
    "bars = ax1.bar(systems, speeds, color=[\"gray\", \"green\", \"blue\"])\n",
    "ax1.set_ylabel(\"Speed (ns/day)\", fontsize=12)\n",
    "ax1.set_title(\"Simulation speeds across platforms and systems\", fontsize=14, pad=25)  \n",
    "ax1.spines['top'].set_visible(False)\n",
    "ax1.spines['right'].set_visible(False)\n",
    "\n",
    "for bar, atoms, speed in zip(bars, atom_counts, speeds):\n",
    "    height = bar.get_height()\n",
    "    ax1.text(bar.get_x() + bar.get_width()/2.0, height + height*0.015,\n",
    "             f\"{atoms} atoms\\n{speed} ns/day\", ha='center', va='bottom', fontsize=10)\n",
    "plt.tight_layout()\n",
    "plt.show()"
   ]
  }
 ],
 "metadata": {
  "kernelspec": {
   "display_name": "Python 3 (ipykernel)",
   "language": "python",
   "name": "python3"
  },
  "language_info": {
   "codemirror_mode": {
    "name": "ipython",
    "version": 3
   },
   "file_extension": ".py",
   "mimetype": "text/x-python",
   "name": "python",
   "nbconvert_exporter": "python",
   "pygments_lexer": "ipython3",
   "version": "3.11.11"
  }
 },
 "nbformat": 4,
 "nbformat_minor": 5
}
