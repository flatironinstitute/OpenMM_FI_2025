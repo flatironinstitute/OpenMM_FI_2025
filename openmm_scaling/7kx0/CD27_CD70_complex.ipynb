{
 "cells": [
  {
   "cell_type": "markdown",
   "id": "b66516f6",
   "metadata": {},
   "source": [
    "# CD27:CD70 complex (PDB ID: 7KX0)  \n",
    "\n",
    "- **System Overview**: This tutorial focuses on the CD27:CD70 complex involved in immune signaling.\n",
    "- **Biological Relevance**: CD27 is a member of the TNF receptor superfamily, while CD70 is its only known ligand. Their interaction promotes T cell, B cell, and NK cell activation — critical for anti-tumor and anti-viral responses.\n",
    "- **Therapeutic Context**: Aberrant CD70 expression is linked to various cancers. The CD27:CD70 axis is a target for cancer immunotherapy, with antibodies and fusion proteins being tested clinically.\n",
    "- **Structural Insights**: The structure (PDB ID: `7KX0`) reveals a trimeric CD70 engaging three CD27 receptors in a 3:3 stoichiometry.\n",
    "- **Experimental Method**: The complex was determined via **X-ray crystallography** at **2.69 Å resolution**.\n",
    "- **PDB Reference**: [RCSB 7KX0 Structure Page](https://www.rcsb.org/structure/7KX0)\n",
    "\n",
    "![CD27:CD70 Complex](image1.jpg)\n",
    "\n",
    "> In this tutorial, we will:\n",
    "> - Prepare the system for simulation (solvation, ionization)\n",
    "> - Equilibrate the system\n",
    "> - Run production molecular dynamics (MD)\n",
    "> - Analyze structural dynamics and stability"
   ]
  },
  {
   "cell_type": "markdown",
   "id": "c3ff5830",
   "metadata": {},
   "source": [
    "## System preparation via CHARMM-GUI glycan reader and modeler\n",
    "\n",
    "We use [CHARMM-GUI Glycan Reader & Modeler](https://www.charmm-gui.org/) to generate Amber-compatible parameter files (`.parm7` and `.rst7`) for the CD27:CD70 complex (PDB ID: `7KX0`).\n",
    "\n",
    "1. Visit: [https://www.charmm-gui.org/](https://www.charmm-gui.org/) and log in.\n",
    "2. Navigate to **Input Generator → Glycan Reader & Modeler**.\n",
    "3. **Upload** the PDB file: `7kxo.pdb`.\n",
    "4. Confirm:\n",
    "   - Chains **A–F** are selected (corresponding to CD70 and CD27).\n",
    "   - Exclude **water molecules** and the **TRS** buffer molecule.\n",
    "5. Proceed with **default parameters** through all preparation steps:\n",
    "   - Water box type: **rectangular** with **10 Å buffer**\n",
    "   - Temperature: **300 K**\n",
    "   - Pressure: default NPT ensemble\n",
    "6. In the **PBC setup**, select input generation for:\n",
    "   - **Amber**\n",
    "   - **OpenMM**\n",
    "   - **CHARMM/OpenMM**\n",
    "   - Use **CHARMM36m** force field.\n",
    "7. Complete the input generation and click **Download `.tgz`**.\n",
    "   - Example: [`download.tgz`](https://www.charmm-gui.org/?doc=input/solution&jobid=4189771171&project=glycan)\n",
    "\n",
    "You should now have:\n",
    "- `system.parm7` – Topology file\n",
    "- `system.rst7` – Coordinates / velocities file\n",
    "\n",
    "These can now be **directly loaded into OpenMM** for equilibration and MD."
   ]
  },
  {
   "cell_type": "markdown",
   "id": "ecc1e5ea",
   "metadata": {},
   "source": [
    "## Energy minimization and equilibration\n",
    "\n",
    "Once the system is prepared using CHARMM-GUI and converted to Amber format, we perform energy minimization and equilibration using OpenMM. This ensures the system is stable and free from steric clashes before running production dynamics."
   ]
  },
  {
   "cell_type": "code",
   "execution_count": null,
   "id": "229d14e6",
   "metadata": {},
   "outputs": [],
   "source": [
    "from openmm.app import AmberPrmtopFile, AmberInpcrdFile, Simulation, PDBFile, DCDReporter, StateDataReporter, PME, HBonds\n",
    "from openmm.unit import kelvin, picosecond, femtosecond, nanometer, kilojoule_per_mole\n",
    "from openmm import Platform, LangevinIntegrator, LocalEnergyMinimizer, XmlSerializer\n",
    "import time\n",
    "import sys"
   ]
  },
  {
   "cell_type": "markdown",
   "id": "aa24ec1e",
   "metadata": {},
   "source": [
    "### Load Amber parameter files\n",
    "\n",
    "We begin by loading the Amber topology (`.parm7`) and coordinate (`.rst7`) files generated from CHARMM-GUI."
   ]
  },
  {
   "cell_type": "code",
   "execution_count": null,
   "id": "d9f0655c",
   "metadata": {},
   "outputs": [],
   "source": [
    "prmtop = AmberPrmtopFile(\"system.parm7\")\n",
    "inpcrd = AmberInpcrdFile(\"system.rst7\")"
   ]
  },
  {
   "cell_type": "code",
   "execution_count": null,
   "id": "832e9764",
   "metadata": {},
   "outputs": [],
   "source": [
    "# Get atom count\n",
    "num_atoms = prmtop.topology.getNumAtoms()\n",
    "print(f\"Number of atoms in the system: {num_atoms}\")"
   ]
  },
  {
   "cell_type": "markdown",
   "id": "dd713f50",
   "metadata": {},
   "source": [
    "### Create the system\n",
    "\n",
    "We define the system with PME for long-range electrostatics and constrain bonds involving hydrogen atoms for better integration stability."
   ]
  },
  {
   "cell_type": "code",
   "execution_count": null,
   "id": "092bd034",
   "metadata": {},
   "outputs": [],
   "source": [
    "system = prmtop.createSystem(nonbondedMethod=PME,\n",
    "                             nonbondedCutoff=1.0 * nanometer,\n",
    "                             constraints=HBonds)"
   ]
  },
  {
   "cell_type": "markdown",
   "id": "a4fe22d1",
   "metadata": {},
   "source": [
    "### Integrator and simulation setup\n",
    "\n",
    "A Langevin integrator is used to maintain the system at 300 K with a 2 fs timestep. We also select the CUDA platform for GPU acceleration.\n"
   ]
  },
  {
   "cell_type": "code",
   "execution_count": null,
   "id": "40532e55",
   "metadata": {},
   "outputs": [],
   "source": [
    "integrator = LangevinIntegrator(300 * kelvin, 1 / picosecond, 2 * femtosecond)\n",
    "platform = Platform.getPlatformByName(\"CUDA\")\n",
    "simulation = Simulation(prmtop.topology, system, integrator, platform)\n",
    "simulation.context.setPositions(inpcrd.positions)"
   ]
  },
  {
   "cell_type": "markdown",
   "id": "63f0e0f2",
   "metadata": {},
   "source": [
    "### Check initial potential energy\n",
    "\n",
    "Before minimization, we check the initial potential energy of the system."
   ]
  },
  {
   "cell_type": "code",
   "execution_count": null,
   "id": "76e851fb",
   "metadata": {},
   "outputs": [],
   "source": [
    "state = simulation.context.getState(getEnergy=True)\n",
    "initial_energy = state.getPotentialEnergy()\n",
    "print(f\"Initial Energy: {initial_energy}\")"
   ]
  },
  {
   "cell_type": "markdown",
   "id": "9212d697",
   "metadata": {},
   "source": [
    "### Energy minimization\n",
    "\n",
    "We perform energy minimization to relieve any bad contacts. A tolerance of `1.0 kJ/mol/nm` is used with a maximum of 10000 iterations."
   ]
  },
  {
   "cell_type": "code",
   "execution_count": null,
   "id": "2f04822f",
   "metadata": {},
   "outputs": [],
   "source": [
    "print(\"Running minimization\")\n",
    "LocalEnergyMinimizer.minimize(simulation.context, tolerance=1.0 * kilojoule_per_mole / nanometer, \n",
    "                              maxIterations=1000)\n",
    "state = simulation.context.getState(getEnergy=True, getPositions=True)\n",
    "minimized_energy = state.getPotentialEnergy()\n",
    "print(f\"Minimized Energy: {minimized_energy}\")"
   ]
  },
  {
   "cell_type": "markdown",
   "id": "6ab5cd7b",
   "metadata": {},
   "source": [
    "### Save minimized structure\n",
    "\n",
    "We save the minimized coordinates to a PDB file for visual inspection."
   ]
  },
  {
   "cell_type": "code",
   "execution_count": null,
   "id": "98b46193",
   "metadata": {},
   "outputs": [],
   "source": [
    "PDBFile.writeFile(simulation.topology, state.getPositions(), open(\"pre_equilibration.pdb\", \"w\"))"
   ]
  },
  {
   "cell_type": "markdown",
   "id": "d4aa91cc",
   "metadata": {},
   "source": [
    "### Equilibration setup\n",
    "\n",
    "We initialize atomic velocities at 300 K and attach reporters to monitor simulation data:\n",
    "- `equilibration.log`: Logs energy, temperature, and speed every 1000 steps.\n",
    "- `equilibration.dcd`: Saves trajectory snapshots every 1000 steps.\n",
    "\n",
    "We run 10000 steps of equilibration, which corresponds to 20 ps."
   ]
  },
  {
   "cell_type": "code",
   "execution_count": null,
   "id": "099a43e5",
   "metadata": {},
   "outputs": [],
   "source": [
    "simulation.context.setVelocitiesToTemperature(300 * kelvin)\n",
    "# Add terminal (console) output reporter\n",
    "simulation.reporters.append(StateDataReporter(sys.stdout, 1000, step=True,\n",
    "                                              potentialEnergy=True, kineticEnergy=True,\n",
    "                                              totalEnergy=True, temperature=True,\n",
    "                                              speed=True, separator=\"\\t\"))\n",
    "# Log file reporter \n",
    "simulation.reporters.append(StateDataReporter(\"equilibration.log\", 1000, step=True,\n",
    "                                               potentialEnergy=True, kineticEnergy=True,\n",
    "                                               totalEnergy=True, temperature=True,\n",
    "                                               speed=True, separator=\"\\t\"))\n",
    "simulation.reporters.append(StateDataReporter(\"equilibration.log\", 100000, step=True,\n",
    "                                              potentialEnergy=True, kineticEnergy=True,\n",
    "                                              totalEnergy=True, temperature=True,\n",
    "                                              speed=True, separator=\"\\t\"))\n",
    "\n",
    "simulation.reporters.append(DCDReporter(\"equilibration.dcd\", 1000))"
   ]
  },
  {
   "cell_type": "markdown",
   "id": "3a4774e5",
   "metadata": {},
   "source": [
    "### Run equilibration\n",
    "\n",
    "We now run the equilibration and time its execution."
   ]
  },
  {
   "cell_type": "code",
   "execution_count": null,
   "id": "7954e332",
   "metadata": {},
   "outputs": [],
   "source": [
    "print(\"Running equilibration\")\n",
    "start_time = time.time()\n",
    "simulation.step(10000)\n",
    "end_time = time.time()\n",
    "print(f\"Equilibration completed in {end_time - start_time:.2f} seconds.\")"
   ]
  },
  {
   "cell_type": "markdown",
   "id": "28d372de",
   "metadata": {},
   "source": [
    "### Save final equilibrated state\n",
    "\n",
    "Finally, we save the coordinates and velocities after equilibration to an XML file. This file can be reloaded for further MD simulations."
   ]
  },
  {
   "cell_type": "code",
   "execution_count": null,
   "id": "9b1d9c33",
   "metadata": {},
   "outputs": [],
   "source": [
    "state = simulation.context.getState(getPositions=True, getVelocities=True)\n",
    "with open(\"equilibration.xml\", \"w\") as f:\n",
    "    f.write(XmlSerializer.serialize(state))"
   ]
  },
  {
   "cell_type": "markdown",
   "id": "713ecf09",
   "metadata": {},
   "source": [
    "## Production MD simulation\n",
    "\n",
    "After equilibration, we proceed with the production MD run. We use the saved equilibrated state (`equilibration.xml`) to continue the simulation using the same system and parameters."
   ]
  },
  {
   "cell_type": "code",
   "execution_count": null,
   "id": "21ed0725",
   "metadata": {},
   "outputs": [],
   "source": [
    "from openmm.app import AmberPrmtopFile, Simulation, PDBFile, DCDReporter, StateDataReporter, PME, HBonds\n",
    "from openmm.unit import kelvin, picosecond, femtosecond, nanometer\n",
    "from openmm import Platform, LangevinIntegrator, XmlSerializer\n",
    "import time"
   ]
  },
  {
   "cell_type": "markdown",
   "id": "b53d4efe",
   "metadata": {},
   "source": [
    "### Load Amber topology and equilibrated State\n",
    "\n",
    "We first load the topology file and deserialize the saved `equilibration.xml` state, which contains both positions and velocities."
   ]
  },
  {
   "cell_type": "code",
   "execution_count": null,
   "id": "9d5a650b",
   "metadata": {},
   "outputs": [],
   "source": [
    "# Load Amber parameter file\n",
    "prmtop = AmberPrmtopFile(\"system.parm7\")\n",
    "\n",
    "# Load equilibrated state\n",
    "with open(\"equilibration.xml\", \"r\") as f:\n",
    "    state = XmlSerializer.deserialize(f.read())"
   ]
  },
  {
   "cell_type": "markdown",
   "id": "e9e28a6e",
   "metadata": {},
   "source": [
    "### Recreate the system and integrator\n",
    "\n",
    "We recreate the system using the same parameters (PME, 1.0 nm cutoff, HBonds constraints) and the Langevin integrator."
   ]
  },
  {
   "cell_type": "code",
   "execution_count": null,
   "id": "a25306b8",
   "metadata": {},
   "outputs": [],
   "source": [
    "# Create system from Amber files\n",
    "system = prmtop.createSystem(nonbondedMethod=PME,\n",
    "                             nonbondedCutoff=1.0 * nanometer,\n",
    "                             constraints=HBonds)\n",
    "\n",
    "# Set up the integrator\n",
    "integrator = LangevinIntegrator(300 * kelvin, 1 / picosecond, 2 * femtosecond)"
   ]
  },
  {
   "cell_type": "markdown",
   "id": "0bd1335e",
   "metadata": {},
   "source": [
    "### Initialize the simulation\n",
    "\n",
    "We use the **CUDA platform** for GPU acceleration and load the saved equilibrated state."
   ]
  },
  {
   "cell_type": "code",
   "execution_count": null,
   "id": "c8cfdcfb",
   "metadata": {},
   "outputs": [],
   "source": [
    "# Set up the simulation\n",
    "platform = Platform.getPlatformByName(\"CUDA\") \n",
    "simulation = Simulation(prmtop.topology, system, integrator, platform)\n",
    "\n",
    "# Load equilibrated positions and velocities\n",
    "simulation.context.setState(state)\n",
    "\n",
    "# Reset step count to 0\n",
    "simulation.currentStep = 0 "
   ]
  },
  {
   "cell_type": "markdown",
   "id": "fa469019",
   "metadata": {},
   "source": [
    "### Add reporters\n",
    "\n",
    "We attach two reporters:\n",
    "- `simulation.log`: Records energy, temperature, and performance every 1000 steps\n",
    "- `simulation.dcd`: Saves coordinates to a trajectory file every 1000 steps"
   ]
  },
  {
   "cell_type": "code",
   "execution_count": null,
   "id": "407d4868",
   "metadata": {},
   "outputs": [],
   "source": [
    "# Add terminal (console) output reporter\n",
    "simulation.reporters.append(StateDataReporter(sys.stdout, 1000, step=True,\n",
    "                                              potentialEnergy=True, kineticEnergy=True,\n",
    "                                              totalEnergy=True, temperature=True,\n",
    "                                              speed=True, separator=\"\\t\"))\n",
    "\n",
    "# Log file reporter \n",
    "simulation.reporters.append(StateDataReporter(\"simulation.log\", 1000, step=True,\n",
    "                                              potentialEnergy=True, kineticEnergy=True,\n",
    "                                              totalEnergy=True, temperature=True,\n",
    "                                              speed=True, separator=\"\\t\"))\n",
    "simulation.reporters.append(DCDReporter(\"simulation.dcd\", 1000))"
   ]
  },
  {
   "cell_type": "markdown",
   "id": "57d91c05",
   "metadata": {},
   "source": [
    "### Run production simulation\n",
    "\n",
    "Now we launch the production simulation for 10000 steps (0.1 ns)."
   ]
  },
  {
   "cell_type": "code",
   "execution_count": null,
   "id": "305f5752",
   "metadata": {},
   "outputs": [],
   "source": [
    "print(\"Starting simulation\")\n",
    "start_time = time.time()\n",
    "simulation.step(100000)\n",
    "end_time = time.time()\n",
    "\n",
    "# Print run time\n",
    "print(f\"Simulation completed in {end_time - start_time:.2f} seconds.\")\n",
    "print(\"Simulation completed.\")"
   ]
  },
  {
   "cell_type": "markdown",
   "id": "0f05f588",
   "metadata": {},
   "source": [
    "## Plot potential and kinetic Energy"
   ]
  },
  {
   "cell_type": "code",
   "execution_count": null,
   "id": "c08702e8",
   "metadata": {},
   "outputs": [],
   "source": [
    "import matplotlib.pyplot as plt\n",
    "import pandas as pd\n",
    "\n",
    "with open(\"simulation.log\", \"r\") as f:\n",
    "    for line in f:\n",
    "        if line.startswith(\"#\"):\n",
    "            header = [col.strip() for col in line[1:].strip().split(\"\\t\")]\n",
    "            break\n",
    "\n",
    "# Load data and assign columns\n",
    "df = pd.read_csv(\"simulation.log\", sep=\"\\t\", comment=\"#\", header=None)\n",
    "df.columns = header\n",
    "\n",
    "# Create subplots\n",
    "fig, axes = plt.subplots(1, 2, figsize=(14, 5), sharex=True)\n",
    "\n",
    "# Plot Potential Energy\n",
    "axes[0].plot(df[header[0]], df[header[1]], color=\"tab:blue\", linewidth=1.5)\n",
    "axes[0].set_title(\"Potential Energy\")\n",
    "axes[0].set_xlabel(\"Step\")\n",
    "axes[0].set_ylabel(\"Energy (kJ/mol)\")\n",
    "\n",
    "# Plot Kinetic Energy\n",
    "axes[1].plot(df[header[0]], df[header[2]], color=\"tab:orange\", linewidth=1.5)\n",
    "axes[1].set_title(\"Kinetic Energy\")\n",
    "axes[1].set_xlabel(\"Step\")\n",
    "axes[1].set_ylabel(\"Energy (kJ/mol)\")\n",
    "\n",
    "# Final layout\n",
    "plt.tight_layout()\n",
    "plt.show()"
   ]
  },
  {
   "cell_type": "code",
   "execution_count": null,
   "id": "939e2c7b",
   "metadata": {},
   "outputs": [],
   "source": [
    "import shutil\n",
    "import os\n",
    "\n",
    "# Create folder if it does not exist\n",
    "output_dir = \"simulation_files\"\n",
    "os.makedirs(output_dir, exist_ok=True)\n",
    "\n",
    "# List of files to move\n",
    "files_to_move = [\"equilibration.xml\", \"equilibration.dcd\", \"equilibration.log\", \n",
    "                 \"simulation.dcd\", \"simulation.log\", \"pre_equilibration.pdb\"]\n",
    "\n",
    "# Move files\n",
    "for filename in files_to_move:\n",
    "    if os.path.exists(filename):\n",
    "        shutil.move(filename, os.path.join(output_dir, filename))\n",
    "        print(f\"Moved: {filename}\")\n",
    "    else:\n",
    "        print(f\"File not found: {filename}\")"
   ]
  }
 ],
 "metadata": {
  "kernelspec": {
   "display_name": "Python 3 (ipykernel)",
   "language": "python",
   "name": "python3"
  },
  "language_info": {
   "codemirror_mode": {
    "name": "ipython",
    "version": 3
   },
   "file_extension": ".py",
   "mimetype": "text/x-python",
   "name": "python",
   "nbconvert_exporter": "python",
   "pygments_lexer": "ipython3",
   "version": "3.11.11"
  }
 },
 "nbformat": 4,
 "nbformat_minor": 5
}
