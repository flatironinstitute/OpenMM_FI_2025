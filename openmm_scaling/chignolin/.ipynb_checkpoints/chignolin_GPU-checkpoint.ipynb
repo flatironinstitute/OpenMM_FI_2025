{
 "cells": [
  {
   "cell_type": "markdown",
   "id": "3b311e80",
   "metadata": {},
   "source": [
    "## OpenMM simulation for small proteins\n",
    "\n",
    "In this section, we will demonstrate how to set up and simulate a small molecular system using **OpenMM’s built-in force fields**.\n",
    "\n",
    "This approach will:\n",
    "- **Directly load a PDB file**\n",
    "- **Assign force field parameters** using built-in XML force fields (e.g., `amber14-all.xml`, `amber14/tip3p.xml`)\n",
    "\n",
    "This is ideal for:\n",
    "- Small proteins or peptides\n",
    "- Simple systems with standard residues\n",
    "- Quick prototyping and testing\n",
    "\n",
    "> We will follow these steps:\n",
    "> 1. Load the PDB structure\n",
    "> 2. Apply built-in force fields\n",
    "> 3. Solvate the system\n",
    "> 4. Minimize energy and equilibrate\n",
    "> 5. Run a short MD simulation"
   ]
  },
  {
   "cell_type": "markdown",
   "id": "79f7c759",
   "metadata": {},
   "source": [
    "## Chignolin (PDB ID: 1UAO)\n",
    "\n",
    "We now shift to simulating a **small, de novo designed protein**.\n",
    "\n",
    "![Chignolin Structure](image1.jpeg)\n",
    "\n",
    "\n",
    "- **PDB ID**: [1UAO](https://www.rcsb.org/structure/1UAO)\n",
    "- **Length**: 10 amino acids\n",
    "- **Sequence**: GYDPETGTWG\n",
    "- **Structure Type**: β-hairpin\n",
    "- **Atom Count**: ~77 atoms\n",
    "- **Molecular Weight**: ~1.08 kDa\n",
    "\n",
    "Chignolin is a **minimal β-hairpin peptide** designed from statistical analyses of protein segments. Despite its size, it exhibits well-defined secondary structure and cooperative folding, making it a popular benchmark for folding studies.\n",
    "\n",
    "- Very small → ideal for testing new simulation workflows\n",
    "- Fast to simulate → perfect for prototyping\n",
    "- Compatible with built-in OpenMM force fields (e.g., `amber14-all.xml`, `amber14/tip3p.xml`)\n",
    "- No need for external parameterization (Amber, GROMACS, CHARMM)\n",
    "\n",
    "We will now proceed to:\n",
    "\n",
    "1. **Download the PDB file** from the RCSB\n",
    "2. **Load it into OpenMM**\n",
    "3. **Apply built-in force fields**\n",
    "4. **Solvate the system**\n",
    "5. **Minimize, equilibrate, and run MD**"
   ]
  },
  {
   "cell_type": "markdown",
   "id": "7729d83b",
   "metadata": {},
   "source": [
    "## Download and load chignolin (1UAO)\n",
    "\n",
    "We now load the structure, apply force fields, and solvate it."
   ]
  },
  {
   "cell_type": "code",
   "execution_count": null,
   "id": "05d5900b",
   "metadata": {},
   "outputs": [],
   "source": [
    "from openmm.app import PDBFile, Modeller, ForceField\n",
    "from openmm.unit import nanometer\n",
    "\n",
    "# Load the PDB file\n",
    "pdb = PDBFile(\"1uao.pdb\")\n",
    "\n",
    "# Load force fields\n",
    "forcefield = ForceField(\"amber14-all.xml\", \"amber14/tip3p.xml\")\n",
    "\n",
    "# Create modeller and apply modifications\n",
    "modeller = Modeller(pdb.topology, pdb.positions)\n",
    "modeller.addHydrogens(forcefield)\n",
    "modeller.addSolvent(forcefield, model='tip3p', padding=1.0 * nanometer)\n",
    "\n",
    "# Show system size\n",
    "print(f\"Number of atoms after solvation: {modeller.topology.getNumAtoms()}\")"
   ]
  },
  {
   "cell_type": "markdown",
   "id": "c2161d33",
   "metadata": {},
   "source": [
    "## Build the OpenMM system\n",
    "\n",
    "We now generate the system object, which will be used for simulation."
   ]
  },
  {
   "cell_type": "code",
   "execution_count": null,
   "id": "178c17a8",
   "metadata": {},
   "outputs": [],
   "source": [
    "from openmm.app import PME, HBonds\n",
    "\n",
    "# Create the system from the solvated topology\n",
    "system = forcefield.createSystem(modeller.topology,\n",
    "                                 nonbondedMethod=PME,\n",
    "                                 nonbondedCutoff=1.0 * nanometer,\n",
    "                                 constraints=HBonds)"
   ]
  },
  {
   "cell_type": "markdown",
   "id": "69f33042",
   "metadata": {},
   "source": [
    "## Energy minimization\n",
    "\n",
    "We minimize the system to remove any steric clashes introduced during hydrogen addition or solvation."
   ]
  },
  {
   "cell_type": "code",
   "execution_count": null,
   "id": "0c95f7f6",
   "metadata": {},
   "outputs": [],
   "source": [
    "from openmm.unit import kelvin, picosecond, femtosecond, kilojoule_per_mole, nanometer\n",
    "from openmm import LangevinIntegrator, LocalEnergyMinimizer, Platform\n",
    "from openmm.app import Simulation, PDBFile\n",
    "\n",
    "# Set up integrator\n",
    "integrator = LangevinIntegrator(300 * kelvin, 1 / picosecond, 2 * femtosecond)\n",
    "\n",
    "# Use GPU \n",
    "platform = Platform.getPlatformByName(\"CUDA\") \n",
    "\n",
    "# Create simulation object\n",
    "simulation = Simulation(modeller.topology, system, integrator, platform)\n",
    "simulation.context.setPositions(modeller.positions)\n",
    "\n",
    "# Get and print initial energy\n",
    "initial_state = simulation.context.getState(getEnergy=True)\n",
    "initial_energy = initial_state.getPotentialEnergy()\n",
    "print(f\"Initial potential energy: {initial_energy}\")\n",
    "\n",
    "# Run minimization\n",
    "print(\"Running energy minimization...\")\n",
    "LocalEnergyMinimizer.minimize(simulation.context, tolerance=1.0 * kilojoule_per_mole / nanometer, maxIterations=1000)\n",
    "\n",
    "# Get and print minimized energy\n",
    "minimized_state = simulation.context.getState(getEnergy=True, getPositions=True)\n",
    "minimized_energy = minimized_state.getPotentialEnergy()\n",
    "print(f\"Minimized potential energy: {minimized_energy}\")\n",
    "\n",
    "# Save minimized structure\n",
    "PDBFile.writeFile(simulation.topology, minimized_state.getPositions(), open(\"pre_equilibration.pdb\", \"w\"))\n",
    "print(\"Minimization complete.\")"
   ]
  },
  {
   "cell_type": "markdown",
   "id": "c01b4803",
   "metadata": {},
   "source": [
    "## Equilibration\n",
    "\n",
    "We now equilibrate the system at 300 K for 100 ps."
   ]
  },
  {
   "cell_type": "code",
   "execution_count": null,
   "id": "3532bc1e",
   "metadata": {},
   "outputs": [],
   "source": [
    "from openmm.app import StateDataReporter, DCDReporter\n",
    "from openmm import XmlSerializer\n",
    "import time\n",
    "import sys\n",
    "\n",
    "# Initialize velocities at 300 K\n",
    "simulation.context.setVelocitiesToTemperature(300 * kelvin)\n",
    "\n",
    "# Write to terminal (stdout)\n",
    "simulation.reporters.append(StateDataReporter(sys.stdout, 10000, step=True,\n",
    "                                               potentialEnergy=True, kineticEnergy=True,\n",
    "                                               totalEnergy=True, temperature=True, speed=True, separator=\"\\t\"))\n",
    "\n",
    "# Write to file\n",
    "simulation.reporters.append(StateDataReporter(\"equilibration.log\", 10000, step=True,\n",
    "                                               potentialEnergy=True, kineticEnergy=True,\n",
    "                                               totalEnergy=True, temperature=True, speed=True, separator=\"\\t\"))\n",
    "\n",
    "# DCD trajectory output\n",
    "simulation.reporters.append(DCDReporter(\"equilibration.dcd\", 10000))\n",
    "\n",
    "# Run equilibration (50000 steps at 2 fs = 100 ps)\n",
    "print(\"Running equilibration...\")\n",
    "start = time.time()\n",
    "simulation.step(50000)\n",
    "end = time.time()\n",
    "print(f\"Equilibration complete in {end - start:.2f} seconds.\")\n",
    "\n",
    "# Save the final state\n",
    "state = simulation.context.getState(getPositions=True, getVelocities=True)\n",
    "with open(\"equilibration.xml\", \"w\") as f:\n",
    "    f.write(XmlSerializer.serialize(state))\n",
    "\n",
    "print(\"Equilibrated state saved to 'equilibration.xml'.\")"
   ]
  },
  {
   "cell_type": "markdown",
   "id": "068c1843",
   "metadata": {},
   "source": [
    "## MD simulation\n",
    "\n",
    "We now load the equilibrated state and continue the simulation for 500,000 steps (1 ns)."
   ]
  },
  {
   "cell_type": "code",
   "execution_count": null,
   "id": "217f2899",
   "metadata": {},
   "outputs": [],
   "source": [
    "from openmm.app import Simulation, StateDataReporter, DCDReporter\n",
    "from openmm import XmlSerializer\n",
    "import sys\n",
    "\n",
    "# Load saved state from equilibration\n",
    "with open(\"equilibration.xml\", \"r\") as f:\n",
    "    state = XmlSerializer.deserialize(f.read())\n",
    "\n",
    "system = forcefield.createSystem(modeller.topology,\n",
    "                                 nonbondedMethod=PME,\n",
    "                                 nonbondedCutoff=1.0 * nanometer,\n",
    "                                 constraints=HBonds)\n",
    "\n",
    "# Create integrator\n",
    "integrator = LangevinIntegrator(300 * kelvin, 1 / picosecond, 2 * femtosecond)\n",
    "\n",
    "# Set up simulation\n",
    "simulation = Simulation(modeller.topology, system, integrator, platform)\n",
    "simulation.context.setState(state)\n",
    "simulation.currentStep = 0  # Reset step count\n",
    "\n",
    "# Reporters\n",
    "simulation.reporters.append(StateDataReporter(sys.stdout, 1000, step=True,\n",
    "                                               potentialEnergy=True, kineticEnergy=True,\n",
    "                                               totalEnergy=True, temperature=True, speed=True, separator=\"\\t\"))\n",
    "simulation.reporters.append(StateDataReporter(\"simulation.log\", 1000, step=True,\n",
    "                                               potentialEnergy=True, kineticEnergy=True,\n",
    "                                               totalEnergy=True, temperature=True, speed=True, separator=\"\\t\"))\n",
    "simulation.reporters.append(DCDReporter(\"simulation.dcd\", 1000))"
   ]
  },
  {
   "cell_type": "markdown",
   "id": "c0656f26",
   "metadata": {},
   "source": [
    "### Production simulation\n",
    "\n",
    "We now simulate for 500,000 steps (1 ns)."
   ]
  },
  {
   "cell_type": "code",
   "execution_count": null,
   "id": "809f70a1",
   "metadata": {},
   "outputs": [],
   "source": [
    "import time\n",
    "\n",
    "print(\"Starting production simulation...\")\n",
    "start_time = time.time()\n",
    "simulation.step(500000)\n",
    "end_time = time.time()\n",
    "print(f\"Production simulation complete in {end_time - start_time:.2f} seconds.\")"
   ]
  },
  {
   "cell_type": "markdown",
   "id": "3ab5f81e",
   "metadata": {},
   "source": [
    "## Trajectory analysis: RMSD\n",
    "\n",
    "We now analyze the `simulation.dcd` trajectory using `MDTraj` to compute the RMSD over time.\n",
    "Steps:\n",
    "- Load trajectory\n",
    "- Remove water atoms\n",
    "- Align all frames to the first\n",
    "- Compute and plot RMSD"
   ]
  },
  {
   "cell_type": "code",
   "execution_count": null,
   "id": "80f46c7f",
   "metadata": {},
   "outputs": [],
   "source": [
    "import matplotlib.pyplot as plt\n",
    "import mdtraj as md\n",
    "\n",
    "# Load trajectory and topology\n",
    "traj = md.load(\"simulation.dcd\", top=\"pre_equilibration.pdb\")\n",
    "\n",
    "# Strip water (TIP3P uses residue name 'HOH')\n",
    "traj = traj.atom_slice(traj.topology.select(\"not water\"))\n",
    "\n",
    "# Align to first frame (superpose on reference)\n",
    "traj.superpose(traj, 0)\n",
    "\n",
    "# Compute RMSD (to frame 0)\n",
    "rmsd = md.rmsd(traj, traj, 0)\n",
    "\n",
    "# Plot\n",
    "plt.figure(figsize=(8, 5))\n",
    "plt.plot(traj.time / 500, rmsd * 10)  # convert ps → ns and nm → Å\n",
    "plt.xlabel(\"Time (ns)\")\n",
    "plt.ylabel(\"RMSD (Å)\")\n",
    "plt.title(\"RMSD of chignolin over time\")\n",
    "plt.tight_layout()\n",
    "plt.show()"
   ]
  },
  {
   "cell_type": "code",
   "execution_count": null,
   "id": "4694f689",
   "metadata": {},
   "outputs": [],
   "source": [
    "import shutil\n",
    "import os\n",
    "\n",
    "# Create folder if it does not exist\n",
    "output_dir = \"simulation_files_GPU\"\n",
    "os.makedirs(output_dir, exist_ok=True)\n",
    "\n",
    "# List of files to move\n",
    "files_to_move = [\"equilibration.xml\", \"equilibration.dcd\", \"equilibration.log\", \n",
    "                 \"simulation.dcd\", \"simulation.log\", \"pre_equilibration.pdb\"]\n",
    "\n",
    "# Move files\n",
    "for filename in files_to_move:\n",
    "    if os.path.exists(filename):\n",
    "        shutil.move(filename, os.path.join(output_dir, filename))\n",
    "        print(f\"Moved: {filename}\")\n",
    "    else:\n",
    "        print(f\"File not found: {filename}\")"
   ]
  }
 ],
 "metadata": {
  "kernelspec": {
   "display_name": "Python 3 (ipykernel)",
   "language": "python",
   "name": "python3"
  },
  "language_info": {
   "codemirror_mode": {
    "name": "ipython",
    "version": 3
   },
   "file_extension": ".py",
   "mimetype": "text/x-python",
   "name": "python",
   "nbconvert_exporter": "python",
   "pygments_lexer": "ipython3",
   "version": "3.11.11"
  }
 },
 "nbformat": 4,
 "nbformat_minor": 5
}
