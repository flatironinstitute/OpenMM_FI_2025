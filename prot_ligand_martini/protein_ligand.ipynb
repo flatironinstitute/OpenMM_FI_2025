{
 "cells": [
  {
   "cell_type": "markdown",
   "id": "95ed9dc7-809b-42dc-8575-0af972d057d8",
   "metadata": {},
   "source": [
    "## A notebook to for Protein-Ligand Simulations.\n",
    "\n",
    "This notebook sets up a simulation to calculate $k_{on}$ from a coarse-grained simulation. For all terms and purpose the rates from 'most' coarse-grained molecular simulations should be used for comparisions --- and we should not trust the absolute values. For example, for a particular protein we can get an idea of qualitative comparisions of the rates for a variety of ligands. \n",
    "\n",
    "<center><img src=\"martini_drug_discovery.png\" alt=\"Protein-ligand interactions\" width=\"400\"/></center>\n",
    "\n",
    "### Possible Applications ...\n",
    "\n",
    "1. Protein-Ligand Binding Studies\n",
    "Binding Affinity and Free Energy Calculations - Martini 3 can estimate binding free energies of ligands to protein targets, aiding in understanding the thermodynamics of binding; Useful for prioritizing ligands in drug discovery workflows.; Identifies potential binding sites by simulating ligand docking to protein surfaces.\n",
    "\n",
    "2. Drug Discovery and Design - Efficiently screens large libraries of small molecules to identify candidates for further refinement.; Reduced computational cost allows simulation of many protein-ligand systems.; Lead Optimization: Explores the structural dynamics of protein-ligand complexes to refine ligand design for improved binding.; Allosteric Modulation: Simulates small molecules binding at allosteric sites to understand their regulatory effects on protein activity.\n",
    "\n",
    "3. Protein-Small Molecule Interactions - Models interactions between enzymes and their substrates, products, or cofactors.; Studies the effects of metabolites on protein conformations.; Simulates the binding and release dynamics of small molecules to/from transport proteins (e.g., ion channels, transporters).; Explores the dynamics of covalent or reversible modifications of proteins by small molecules.\n",
    "\n",
    "4. Membrane-Associated Systems - Studies the binding of ligands to membrane proteins (e.g., GPCRs, ion channels) in their native lipid bilayer environment.; Assesses the effects of the lipid environment on binding affinity and protein dynamics.; Models the partitioning and diffusion of small molecules within lipid bilayers.\n",
    "Useful for designing membrane-permeable drugs.\n",
    "\n",
    "5. Allosteric Regulation and Functional Modulation - Studies how small molecules modulate protein function by binding to allosteric sites.; Explores the dynamics of allosteric pathways within proteins.; Simulates ligand-induced changes in protein conformations linked to downstream signaling events.\n",
    "\n",
    "6. Aggregation and Phase Behavior - Studies the effects of small molecules on the aggregation behavior of amyloid-forming proteins (e.g., Aβ peptides); Explores therapeutic strategies for diseases like Alzheimer’s and Parkinson’s.; Models the influence of small molecules on liquid-liquid phase separation (LLPS) of intrinsically disordered proteins.\n",
    "\n",
    "7. Toxicology and Pharmacology - Simulates interactions between small molecules and unintended protein targets to predict off-target effects.; Models how small molecules interact with detoxification proteins (e.g., cytochrome P450 enzymes) to predict pharmacokinetics.\n",
    "\n",
    "\n",
    "\n",
    "\n",
    "Given, \n",
    "\n",
    "- We have an automated way to parametrize a variety of ligands (not so far in future)\n",
    "- We have a 'WORKING' python wrapper for GROMACS (maybe there are workarounds)\n",
    "- An automated way to characterize important features of the binding pockets - the important water molecules. This should in principle be available from the PDB structures.\n",
    "\n",
    "We could maybe come up with a toolkit to **quickly** calculate $k_{on}$ for a bunch of ligands. And pass these to more expensive calculations at a later point."
   ]
  },
  {
   "cell_type": "markdown",
   "id": "8b0f1b55-f1ed-4687-bee5-83156deb7d8b",
   "metadata": {},
   "source": [
    "<center><img src=\"table_1.png\" alt=\"Table of bead-types for small molecules.\" width=\"500\"/></center>\n",
    "<center><img src=\"table_2.png\" alt=\"Table of bead-types for small molecules.\" width=\"500\"/></center>"
   ]
  },
  {
   "cell_type": "markdown",
   "id": "eb1374d9-85fc-42f9-b1dc-6f9a8892d383",
   "metadata": {},
   "source": [
    "### Basics of Small-Molecule Parametrization\n",
    "\n",
    "- Consider only non-hydrogen atoms to define the mapping.\n",
    "\n",
    "- Avoid dividing chemical functional groups (e.g., amide, carboxylate, etc.) between two beads.\n",
    "\n",
    "- Retain in the CG representation as much as possible (1) the symmetry and (2) the molecular volume and shape of the underlying AA structure.\n",
    "\n",
    "- Keep in mind that the default bead sizes for mapping linear molecular fragments are one regular (R) bead for 4 non-hydrogen atoms (4-1), one small (S) bead for three (3-1), and one tiny (T) bead for two (2-1).\n",
    "\n",
    "- Consider that R-beads are the most computationally-performant option; S-beads are useful to mimic the “bulkier” shape of aliphatic rings, while T-beads are particularly suited to represent atom-thick, conjugated rings.\n",
    "\n",
    "- Optimize the number of beads such that there is at most a mismatch of ±1 non-hydrogen atom every 10 non-hydrogen atoms. Some exceptions may be allowed if well-tested (e.g., mapping of thiophene or furan with three T-beads have a mismatch of −1 given that 5 non-hydrogen atoms are mapped onto 3 T-beads which are parameterized to represent 6 non-hydrogen atoms).\n",
    "\n",
    "- For fully branched fragments, use beads of one size smaller than the size determined based on the non-hydrogen atom count. The rationale behind this is that the central atom of a branched group is not exposed to the environment (i.e., it is buried), which reduces its influence on the interactions. For example, a neopentane group contains 5 non-hydrogen atoms but it can be effectively modeled with an R-bead\n",
    "\n",
    "<center><img src=\"caffine.jpeg\" alt=\"Martini 3 CG model of caffeine. (a) The 14 non-hydrogen atoms are described by a 7 T-bead model; the indices used for the beads in the CG topology file are also shown. (b) Rendering of the CG model: apolar aromatic and intermediately polar beads are displayed in silver (TC5, TN1) and blue (TN5a) while polar (TP1a) beads are in red. As described in Sec. 2.5 and shown in the rendering, beads 1, 3, 6, and 7 are connected via constraints and form a “hinge” construction, while beads 2, 4, and 5 are constructed as virtual sites. (c) Representative bond and dihedral distributions: OPLS is in blue while Martini is in red. Note that while distance 3-6 corresponds to an actual constraint at the CG level, distances 5-6 and 1-2 at the CG-level result from the virtual site constructions. (d) A comparison of the Connolly surfaces of the AA (gray) and Martini 3 (blue) models; the inset shows a side view of the molecule.\" width=\"500\"/></center>"
   ]
  },
  {
   "cell_type": "markdown",
   "id": "4d6953d7-9c12-412e-8ef4-1a39eaacdcd9",
   "metadata": {},
   "source": [
    "### Set up your simulation box.\n",
    "\n",
    "Use Charmm-GUI Martini maker + Tools from gromacs (gmx_mpi insert-molecules) to create the simulation box -- see martini_basics tutorial.\n",
    "\n",
    "### System\n",
    "\n",
    "Martini Lysozyme with Benzene\n",
    "<center><img src=\"protein_ligand.png\" alt=\"Martini 3 CG model of caffeine. (a) The 14 non-hydrogen atoms are described by a 7 T-bead model; the indices used for the beads in the CG topology file are also shown. (b) Rendering of the CG model: apolar aromatic and intermediately polar beads are displayed in silver (TC5, TN1) and blue (TN5a) while polar (TP1a) beads are in red. As described in Sec. 2.5 and shown in the rendering, beads 1, 3, 6, and 7 are connected via constraints and form a “hinge” construction, while beads 2, 4, and 5 are constructed as virtual sites. (c) Representative bond and dihedral distributions: OPLS is in blue while Martini is in red. Note that while distance 3-6 corresponds to an actual constraint at the CG level, distances 5-6 and 1-2 at the CG-level result from the virtual site constructions. (d) A comparison of the Connolly surfaces of the AA (gray) and Martini 3 (blue) models; the inset shows a side view of the molecule.\" width=\"500\"/></center>"
   ]
  },
  {
   "cell_type": "markdown",
   "id": "f315bb99-37da-4215-938c-6969dda79beb",
   "metadata": {},
   "source": [
    "<center><img src=\"protein_ligand.png\" alt=\"Martini 3 CG model of caffeine. (a) The 14 non-hydrogen atoms are described by a 7 T-bead model; the indices used for the beads in the CG topology file are also shown. (b) Rendering of the CG model: apolar aromatic and intermediately polar beads are displayed in silver (TC5, TN1) and blue (TN5a) while polar (TP1a) beads are in red. As described in Sec. 2.5 and shown in the rendering, beads 1, 3, 6, and 7 are connected via constraints and form a “hinge” construction, while beads 2, 4, and 5 are constructed as virtual sites. (c) Representative bond and dihedral distributions: OPLS is in blue while Martini is in red. Note that while distance 3-6 corresponds to an actual constraint at the CG level, distances 5-6 and 1-2 at the CG-level result from the virtual site constructions. (d) A comparison of the Connolly surfaces of the AA (gray) and Martini 3 (blue) models; the inset shows a side view of the molecule.\" width=\"500\"/></center>"
   ]
  },
  {
   "cell_type": "code",
   "execution_count": 1,
   "id": "c026de65-e63f-422c-a3e9-95bdc6e27c21",
   "metadata": {},
   "outputs": [
    {
     "name": "stderr",
     "output_type": "stream",
     "text": [
      "Warning: importing 'simtk.openmm' is deprecated.  Import 'openmm' instead.\n",
      "Warning on use of the timeseries module: If the inherent timescales of the system are long compared to those being analyzed, this statistical inefficiency may be an underestimate.  The estimate presumes the use of many statistically independent samples.  Tests should be performed to assess whether this condition is satisfied.   Be cautious in the interpretation of the data.\n",
      "\n",
      "****** PyMBAR will use 64-bit JAX! *******\n",
      "* JAX is currently set to 32-bit bitsize *\n",
      "* which is its default.                  *\n",
      "*                                        *\n",
      "* PyMBAR requires 64-bit mode and WILL   *\n",
      "* enable JAX's 64-bit mode when called.  *\n",
      "*                                        *\n",
      "* This MAY cause problems with other     *\n",
      "* Uses of JAX in the same code.          *\n",
      "******************************************\n",
      "\n"
     ]
    }
   ],
   "source": [
    "#Import\n",
    "\n",
    "from openmm.unit import *\n",
    "from openmm import *\n",
    "from openmm.app import *\n",
    "import martini_openmm as martini\n",
    "from mdtraj.reporters import XTCReporter\n",
    "from openmm import app\n",
    "from sys import stdout\n",
    "import openmmtools"
   ]
  },
  {
   "cell_type": "code",
   "execution_count": 2,
   "id": "b5f8a722-bee0-418f-b1b6-09e0f8b3aead",
   "metadata": {},
   "outputs": [],
   "source": [
    "#platform = Platform.getPlatformByName(\"OpenCL\")\n",
    "properties = {'Precision': 'double'}\n",
    "\n",
    "conf = GromacsGroFile(\"./protein_ligand/wion.gro\")\n",
    "box_vectors = conf.getPeriodicBoxVectors()\n",
    "# get any defines\n",
    "defines = {}\n",
    "try:\n",
    "\twith open(\"defines.txt\") as def_file:\n",
    "\t\tfor line in def_file:\n",
    "\t\t\tline = line.strip()\n",
    "\t\t\tdefines[line] = True\n",
    "except FileNotFoundError:\n",
    "\tpass\n",
    "\n",
    "top = martini.MartiniTopFile(\n",
    "\t\t\"./protein_ligand/t4l_only.top\",\n",
    "\t\tperiodicBoxVectors=box_vectors,\n",
    "\t\tdefines=defines,\n",
    "\t\tepsilon_r=15.0,\n",
    "\t)\n",
    "system = top.create_system(nonbonded_cutoff=1.1 * nanometer)\n",
    "integrator = LangevinIntegrator(310 * kelvin,\n",
    "\t\t\t\t\t\t\t\t\t10.0 / picosecond,\n",
    "\t\t\t\t\t\t\t\t\t20 * femtosecond)\n",
    "integrator.setRandomNumberSeed(0)\n",
    "simulation = Simulation(top.topology, system, integrator)\n",
    "simulation.context.setPositions(conf.getPositions())"
   ]
  },
  {
   "cell_type": "code",
   "execution_count": 3,
   "id": "13ea574c-c756-4365-8316-2948fa071c87",
   "metadata": {},
   "outputs": [
    {
     "name": "stdout",
     "output_type": "stream",
     "text": [
      "Minimizing energy...\n",
      "System minimized at -262556.15869140625 kJ/mol \n",
      "\n"
     ]
    }
   ],
   "source": [
    "### Minimization ###\n",
    "\n",
    "simulation.reporters.append(PDBReporter('mini.pdb', 1000))\n",
    "simulation.reporters.append(StateDataReporter(stdout, 5000,\n",
    "\t\t\t\t\t\t\t\t\t\t\t\t\tstep=True,\n",
    "\t\t\t\t\t\t\t\t\t\t\t\t\tpotentialEnergy=True,\n",
    "\t\t\t\t\t\t\t\t\t\t\t\t\ttemperature=True,\n",
    "\t\t\t\t\t\t\t\t\t\t\t\t\tvolume=True)\n",
    "\t\t\t\t\t\t\t\t)\n",
    "simulation.reporters.append(StateDataReporter(\"md_log.txt\", 100, step=True,\n",
    "        potentialEnergy=True, temperature=True, volume=True))\n",
    "print(\"Minimizing energy...\")\n",
    "simulation.minimizeEnergy(maxIterations=5000,tolerance=1.0)\n",
    "\n",
    "energies = simulation.context.getState(getEnergy=True).getPotentialEnergy()\n",
    "print(\"System minimized at\", energies, \"\\n\")"
   ]
  },
  {
   "cell_type": "code",
   "execution_count": 4,
   "id": "59751ce6-8995-474b-b889-7572fb00b71a",
   "metadata": {},
   "outputs": [
    {
     "name": "stdout",
     "output_type": "stream",
     "text": [
      "Running NVT equilibration...\n",
      "#\"Step\",\"Potential Energy (kJ/mole)\",\"Temperature (K)\",\"Box Volume (nm^3)\"\n",
      "5000,-228414.12646484375,309.4791749549511,1000.0\n",
      "10000,-228651.671875,305.5381636146542,1000.0\n",
      "15000,-228931.2216796875,309.2738015712404,1000.0\n",
      "20000,-229253.2001953125,306.0596903733026,1000.0\n",
      "25000,-229395.052734375,310.54857155566253,1000.0\n",
      "30000,-228436.431640625,314.4630259838682,1000.0\n",
      "35000,-228949.7255859375,308.087920692198,1000.0\n",
      "40000,-229289.67236328125,312.4811464317332,1000.0\n",
      "45000,-228803.3046875,312.19211379168223,1000.0\n",
      "50000,-228193.298828125,310.91912181027686,1000.0\n"
     ]
    }
   ],
   "source": [
    "################################################################################\n",
    "### NVT equilibration ###\n",
    "simulation.context.setVelocitiesToTemperature(310 * kelvin)\n",
    "print('Running NVT equilibration...')\n",
    "simulation.step(50000) #1ns\n",
    "################################################################################"
   ]
  },
  {
   "cell_type": "code",
   "execution_count": 5,
   "id": "0e9f2a0a-08d4-447e-b7f8-9677a51585ad",
   "metadata": {},
   "outputs": [
    {
     "name": "stdout",
     "output_type": "stream",
     "text": [
      "Running NPT equilibration...\n",
      "55000,-217123.32373046875,310.68878814613385,1068.4465427085138\n",
      "60000,-217339.70751953125,310.36267419311076,1064.2996561887303\n",
      "65000,-217299.18359375,311.3086082433225,1064.3708286081667\n",
      "70000,-217458.07275390625,310.9631484133843,1068.3009102094538\n",
      "75000,-217984.9541015625,313.09321907293264,1062.470784180637\n",
      "80000,-217380.478515625,312.6284639415436,1067.4840223385877\n",
      "85000,-217581.1884765625,313.94621391638213,1066.5825948463612\n",
      "90000,-217595.02587890625,307.5827555582401,1067.7289661014827\n",
      "95000,-217716.84814453125,308.3243162494833,1064.9833266220817\n",
      "100000,-216914.1337890625,315.18248900160086,1067.918864357926\n"
     ]
    }
   ],
   "source": [
    "### NPT equilibration ###\n",
    "\t\n",
    "system.addForce(MonteCarloBarostat(1 * bar, 310 * kelvin))\n",
    "# to update the simulation object to take in account the new system\n",
    "simulation.context.reinitialize(True)\n",
    "print('Running NPT equilibration...')\n",
    "simulation.step(50000) #1ns\n",
    "\n",
    "# save the equilibration results to file\n",
    "simulation.saveState('equi.state')\n",
    "simulation.saveCheckpoint('equi.chk')"
   ]
  },
  {
   "cell_type": "code",
   "execution_count": 6,
   "id": "2a9856ed-fd1e-4b2f-b2e8-6769f0af7d1e",
   "metadata": {},
   "outputs": [
    {
     "name": "stdout",
     "output_type": "stream",
     "text": [
      "Running simulation...\n",
      "105000,-218333.0771484375,307.07231927393184,1062.436735103614\n",
      "110000,-217309.77392578125,309.127571048203,1063.442341701423\n",
      "115000,-217056.02685546875,305.2369080752565,1066.6841871512775\n",
      "120000,-217685.8857421875,311.7877210287728,1063.137576302273\n",
      "125000,-218005.0078125,310.02214089579167,1064.8764064785562\n",
      "130000,-217322.13232421875,314.53333652527607,1066.51109582074\n",
      "135000,-216447.2822265625,308.60912607789095,1068.6090820526767\n",
      "140000,-217724.3359375,307.88214485499657,1065.4319122261286\n",
      "145000,-216964.1005859375,308.61818242911295,1065.7270159212962\n",
      "150000,-216546.08447265625,309.31448413157136,1070.2453828113194\n",
      "155000,-216851.43994140625,305.80078565006255,1068.5470195154\n",
      "160000,-217702.32177734375,312.2431319275248,1063.5228292417794\n",
      "165000,-217574.66259765625,311.78710856589504,1063.1872944274912\n",
      "170000,-216833.056640625,309.4557294878307,1065.6253735637806\n",
      "175000,-217705.2177734375,311.4618820862795,1065.4872036085146\n",
      "180000,-217064.4423828125,312.0915810416923,1067.3910749723777\n",
      "185000,-217292.27685546875,308.7355520068824,1063.7269572807072\n",
      "190000,-217055.021484375,305.92983024817426,1066.5853476391005\n",
      "195000,-217902.5888671875,318.16514709931033,1064.9718935578078\n",
      "200000,-217883.193359375,308.8406739446078,1064.1444340256587\n",
      "205000,-217618.03759765625,309.74090639208026,1065.6573401248625\n",
      "210000,-217802.84765625,314.4905457764985,1064.1610753879324\n",
      "215000,-217652.87353515625,306.2771968185934,1066.278295031995\n",
      "220000,-217641.6923828125,312.11817962661905,1065.514254314679\n",
      "225000,-218338.79736328125,311.1169234850652,1062.21188136399\n",
      "230000,-217411.14697265625,307.34577936046674,1064.5217216845099\n",
      "235000,-217723.2373046875,310.78314150406635,1066.5534696570624\n",
      "240000,-217597.2138671875,311.6231233018466,1064.667123406268\n",
      "245000,-217204.9609375,308.61220751662563,1069.0417829607522\n",
      "250000,-217862.640625,310.4258870964266,1065.8302230939385\n",
      "255000,-217326.11767578125,310.6209080428546,1065.2517515200798\n",
      "260000,-216787.216796875,312.7039267516825,1066.932652814093\n",
      "265000,-217567.6103515625,312.0334103037347,1065.9779233552701\n",
      "270000,-217992.66552734375,311.1622920390586,1063.368462727828\n",
      "275000,-217344.74951171875,313.5845044989112,1067.442147282838\n",
      "280000,-217411.55859375,307.9330455563724,1065.0443303637976\n",
      "285000,-217920.92626953125,307.8609645534831,1066.3830243323553\n",
      "290000,-217907.36962890625,308.2850118477694,1063.121674334197\n",
      "295000,-216972.318359375,311.9570318470657,1068.8883415970545\n",
      "300000,-216795.2744140625,310.6874719411033,1067.4794740923876\n",
      "305000,-217520.4296875,307.6531545538196,1064.736252007101\n",
      "310000,-216453.1142578125,306.6257978696211,1069.245477314819\n",
      "315000,-217370.02734375,308.4008034610361,1064.5953732686783\n",
      "320000,-217694.4267578125,315.5587587459809,1065.7682012148753\n",
      "325000,-217800.86962890625,311.46289362518326,1066.5535105360727\n",
      "330000,-216612.36474609375,307.16470140873105,1071.1532982730448\n",
      "335000,-217017.91455078125,307.2446099611704,1066.4365326548525\n",
      "340000,-216994.8056640625,310.1344375095701,1069.2593153875298\n",
      "345000,-217127.52001953125,311.3281198336997,1065.9631837076683\n",
      "350000,-218288.6572265625,310.74740492389793,1060.2829847706507\n",
      "355000,-217619.90087890625,312.3514310607676,1066.2478299882653\n",
      "360000,-218226.84912109375,311.77706000816903,1063.1001812532975\n",
      "365000,-217586.833984375,305.07983306294096,1065.489318176825\n",
      "370000,-217552.66552734375,307.83351945133074,1066.3430664733646\n",
      "375000,-218441.98974609375,309.8817762384641,1062.4770625217152\n",
      "380000,-217588.82861328125,309.6252720677516,1064.0783659140916\n",
      "385000,-217663.31494140625,313.9293878791063,1065.0795957093785\n",
      "390000,-218140.3916015625,310.64336551335543,1061.6870850404848\n",
      "395000,-217551.79150390625,304.346823132821,1065.4606761283292\n",
      "400000,-217292.72119140625,310.45220896801106,1066.4201781631716\n",
      "405000,-217480.2919921875,310.8253639318795,1066.5512070942782\n",
      "410000,-217470.9462890625,306.4705117910657,1067.1371117174442\n",
      "415000,-217443.09814453125,307.9560546048614,1066.0634135737446\n",
      "420000,-217489.3505859375,315.08112824097367,1067.687980773826\n",
      "425000,-216811.828125,310.8132880775288,1068.468402307618\n",
      "430000,-217114.48681640625,309.92305070971776,1065.432235420476\n",
      "435000,-216996.27734375,306.2267190344315,1069.8049795314441\n",
      "440000,-217486.15869140625,305.8326644747295,1066.4960932747904\n",
      "445000,-217144.8994140625,309.82780636117724,1066.2318000130795\n",
      "450000,-217626.626953125,311.1614197097665,1063.4715664149971\n",
      "455000,-217468.46875,311.1241614354673,1066.8504501378661\n",
      "460000,-217193.14990234375,309.8364587199353,1067.1805110641772\n",
      "465000,-217874.30859375,309.6247066549125,1062.858011337727\n",
      "470000,-217006.28369140625,308.28462303630846,1070.1718137500743\n",
      "475000,-217544.71826171875,307.99346909243866,1065.565174887619\n",
      "480000,-216775.91552734375,309.9978598339921,1069.4699311909412\n",
      "485000,-216825.2138671875,312.2500115520933,1068.711360831474\n",
      "490000,-216810.92236328125,309.92663300037964,1067.2426280489587\n",
      "495000,-217785.69677734375,308.562657225102,1065.707107177672\n",
      "500000,-217454.5576171875,305.40163199108696,1064.3968432529932\n",
      "505000,-218349.7060546875,307.7414796470009,1063.6977972002362\n",
      "510000,-218189.43798828125,310.76222608213226,1063.5964873341939\n",
      "515000,-217672.8984375,307.68223680747303,1066.5994061435238\n",
      "520000,-217387.2607421875,310.7189782139384,1066.8668317954687\n",
      "525000,-217907.86376953125,307.4884222526409,1061.9595984115817\n",
      "530000,-217558.13427734375,310.9790625892503,1064.6475091402306\n",
      "535000,-217562.3203125,307.7368218100858,1067.3321891188118\n",
      "540000,-217323.224609375,313.6481890884028,1066.5664234690576\n",
      "545000,-217317.31591796875,312.43813399181164,1066.6188160750314\n",
      "550000,-217837.5673828125,308.73495312703943,1064.6713852918272\n",
      "555000,-217727.64453125,313.9862292644831,1064.8059503169563\n",
      "560000,-217234.716796875,309.0976698627065,1068.2781514803153\n",
      "565000,-217324.505859375,309.7709070555201,1066.6035796787082\n",
      "570000,-217409.6083984375,310.74838507214065,1064.5712239385596\n",
      "575000,-217589.34033203125,305.4617748482812,1063.5646342207579\n",
      "580000,-217879.19873046875,309.30508777065336,1063.6748052988821\n",
      "585000,-217448.736328125,316.562958512652,1066.5807946563104\n",
      "590000,-216678.75537109375,312.0660887682987,1071.2382724467186\n",
      "595000,-217569.70166015625,318.1611599627568,1066.7525163300415\n",
      "600000,-217392.8310546875,310.11403968241905,1068.0456555807987\n"
     ]
    }
   ],
   "source": [
    "simulation.reporters.append(StateDataReporter(\"prod.log\", 1000,\n",
    "\t\t\t\t\t\t\t\t\t\t\t\t\tstep=True,\n",
    "\t\t\t\t\t\t\t\t\t\t\t\t\tpotentialEnergy=True,\n",
    "\t\t\t\t\t\t\t\t\t\t\t\t\ttotalEnergy=True,\n",
    "\t\t\t\t\t\t\t\t\t\t\t\t\tdensity=True,\n",
    "\t\t\t\t\t\t\t\t\t\t\t\t\ttemperature=True,\n",
    "\t\t\t\t\t\t\t\t\t\t\t\t\tvolume=True)\n",
    "\t\t\t\t\t\t\t\t)\n",
    "# save the trajectory in XTC format\n",
    "xtc_reporter = XTCReporter('prod.xtc', 1000)\n",
    "simulation.reporters.append(xtc_reporter)\n",
    "\n",
    "# run simulation\n",
    "print(\"Running simulation...\")\n",
    "simulation.step(500000) #1ns"
   ]
  },
  {
   "cell_type": "markdown",
   "id": "1cd05bac-2694-4b4b-b4bf-e63732d68276",
   "metadata": {},
   "source": [
    "### Sample Results\n",
    "\n",
    "<center><img src=\"protein_mutants.png\" alt=\"Benzene density around mutants L99A (A) and L99A/M102Q (B) T4 lysozyme obtained from averaging 0.9 ms of CG simulations. The blue, cyan, red, and violet isosurfaces correspond to a 10, 100, 1,000, and 10,000 fold higher benzene density than in water. These densities translate to the free energy values shown at the color map. Results obtained with Martini 3 open-beta\" width=\"500\"/></center>\n",
    " <center>Benzene density around mutants L99A (A) and L99A/M102Q (B) T4 lysozyme obtained from averaging 0.9 ms of CG simulations. The blue, cyan, red, and violet isosurfaces correspond to a 10, 100, 1,000, and 10,000 fold higher benzene density than in water. These densities translate to the free energy values shown at the color map. Results obtained with Martini 3 open-beta</center>\n"
   ]
  },
  {
   "cell_type": "markdown",
   "id": "36d5620b-29e4-46f4-9333-716ac1fae10e",
   "metadata": {},
   "source": [
    "$k_{on}$ = (# of binding-events/simulation-time)/concentration."
   ]
  },
  {
   "cell_type": "code",
   "execution_count": null,
   "id": "9375f5f6-fcb2-4a01-847c-7501e6467a18",
   "metadata": {},
   "outputs": [],
   "source": []
  },
  {
   "cell_type": "code",
   "execution_count": null,
   "id": "a6dcf575-975a-4346-bb5b-35ab31e222d7",
   "metadata": {},
   "outputs": [],
   "source": []
  }
 ],
 "metadata": {
  "kernelspec": {
   "display_name": "Python 3 (ipykernel)",
   "language": "python",
   "name": "python3"
  },
  "language_info": {
   "codemirror_mode": {
    "name": "ipython",
    "version": 3
   },
   "file_extension": ".py",
   "mimetype": "text/x-python",
   "name": "python",
   "nbconvert_exporter": "python",
   "pygments_lexer": "ipython3",
   "version": "3.12.6"
  }
 },
 "nbformat": 4,
 "nbformat_minor": 5
}
