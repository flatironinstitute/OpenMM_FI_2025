{
 "cells": [
  {
   "cell_type": "code",
   "execution_count": 1,
   "id": "167a5b95-b5e7-4561-87c4-d88d6da37102",
   "metadata": {},
   "outputs": [],
   "source": [
    "import openmm as mm\n",
    "import openmm.app as app\n",
    "import openmm.unit as unit\n",
    "import numpy as np\n",
    "import itertools\n",
    "from sys import stdout"
   ]
  },
  {
   "cell_type": "markdown",
   "id": "1130b41a",
   "metadata": {},
   "source": [
    "\n",
    "### Creates a coarse-grained (CG) element to be used in simulations.\n",
    "\n",
    "This is an interesting feature that you'd only encounter in coarse-grained simulations. In CG, of course, you'd NEED to deifne the \"atomic number\", mass, charge etc of the CG center that you are creating. That's what we do next."
   ]
  },
  {
   "cell_type": "code",
   "execution_count": 2,
   "id": "c97afaf8",
   "metadata": {},
   "outputs": [
    {
     "data": {
      "text/plain": [
       "\"\\n#Given a set of masses, create a set of elements\\nif 'elements_initialized' not in globals():\\n    elements = []\\n    for i, mass in enumerate(MASS):\\n        element = app.Element(number=1000 + i, name=f'C{i+1}', symbol=f'C{i+1}', mass=mass)\\n        elements.append(element)\\n    elements_initialized = True\\n\""
      ]
     },
     "execution_count": 2,
     "metadata": {},
     "output_type": "execute_result"
    }
   ],
   "source": [
    "cgElement = app.Element(number=1000, name='CG-element', symbol='CG', mass=120)\n",
    "\n",
    "'''\n",
    "#Given a set of masses, create a set of elements\n",
    "if 'elements_initialized' not in globals():\n",
    "    elements = []\n",
    "    for i, mass in enumerate(MASS):\n",
    "        element = app.Element(number=1000 + i, name=f'C{i+1}', symbol=f'C{i+1}', mass=mass)\n",
    "        elements.append(element)\n",
    "    elements_initialized = True\n",
    "'''"
   ]
  },
  {
   "cell_type": "code",
   "execution_count": 3,
   "id": "2a6ab72e",
   "metadata": {},
   "outputs": [],
   "source": [
    "# Make an empty topology\n",
    "topology = app.Topology()"
   ]
  },
  {
   "cell_type": "markdown",
   "id": "accde1cf",
   "metadata": {},
   "source": [
    "### The System\n",
    "\n",
    "In this notebook, we will create a simulation box with 100 polymer chains, with 10 beads each. "
   ]
  },
  {
   "cell_type": "code",
   "execution_count": 4,
   "id": "6881954a",
   "metadata": {},
   "outputs": [
    {
     "name": "stdout",
     "output_type": "stream",
     "text": [
      "<Topology; 100 chains, 1000 residues, 1000 atoms, 900 bonds>\n"
     ]
    }
   ],
   "source": [
    "# Number of polymer chains\n",
    "M = 100\n",
    "# Number of atoms in each chain\n",
    "N = 10\n",
    "\n",
    "# Add each chain to the topology\n",
    "for m in range(M):\n",
    "    chain = topology.addChain()\n",
    "    atom1 = topology.addAtom(name=\"CG-bead\", element=cgElement, residue=topology.addResidue(name=\"CG-residue\", chain=chain))\n",
    "    \n",
    "    for i in range(1, N):\n",
    "        atom2 = topology.addAtom(name=\"CG-bead\", element=cgElement, residue=topology.addResidue(name=\"CG-residue\", chain=chain))\n",
    "        topology.addBond(atom1, atom2)\n",
    "        atom1 = atom2\n",
    "\n",
    "# Check the topology\n",
    "print(topology)\n"
   ]
  },
  {
   "cell_type": "markdown",
   "id": "39518647",
   "metadata": {},
   "source": [
    "Now, we place the beads in a grid. Distance between beads in a single polymer is 0.38 nm"
   ]
  },
  {
   "cell_type": "code",
   "execution_count": 5,
   "id": "5e6a516f",
   "metadata": {},
   "outputs": [],
   "source": [
    "# Initialize an empty list to store positions\n",
    "positions = []\n",
    "# Loop over each polymer chain\n",
    "for m in range(M):\n",
    "    # Calculate the initial position for the first bead in the chain\n",
    "    x0 = np.array(((m % 10) * 1.0, (m // 10) * 1.0, 0))\n",
    "    positions.append(x0)    \n",
    "    # Loop over the remaining beads in the chain\n",
    "    for i in range(1, N):\n",
    "        # Calculate the position for the next bead in the chain\n",
    "        xi = positions[-1] + np.array((0, 0, 0.38))\n",
    "        positions.append(xi)\n",
    "\n",
    "# Convert the list of positions into an OpenMM Quantity with units of nanometers\n",
    "positions = positions * unit.nanometer\n",
    "# Ensure the number of positions matches the number of atoms in the topology\n",
    "assert len(positions) == topology.getNumAtoms()\n",
    "# Set the periodic box vectors to create a cubic box with a length of 11 nm\n",
    "topology.setPeriodicBoxVectors(np.eye(3) * 11.0 * unit.nanometers)\n"
   ]
  },
  {
   "cell_type": "code",
   "execution_count": 6,
   "id": "d33a3b3e",
   "metadata": {},
   "outputs": [],
   "source": [
    "# output the initial configuration. Save it to a file\n",
    "with open('initial_config.pdb','w') as f:\n",
    "    app.PDBFile.writeFile(topology, positions, f)\n"
   ]
  },
  {
   "cell_type": "markdown",
   "id": "d820a338",
   "metadata": {},
   "source": [
    "At this point, we now move to OpenMM, and prepare the simulation."
   ]
  },
  {
   "cell_type": "code",
   "execution_count": 7,
   "id": "72f69890",
   "metadata": {},
   "outputs": [],
   "source": [
    "# create the system and add the particles to it\n",
    "system = mm.System()\n",
    "system.setDefaultPeriodicBoxVectors(*topology.getPeriodicBoxVectors())\n",
    "for atom in topology.atoms():\n",
    "    system.addParticle(atom.element.mass)"
   ]
  },
  {
   "cell_type": "markdown",
   "id": "fe0a8192",
   "metadata": {},
   "source": [
    "### Defining the forcefield.\n",
    "*Bonds*: Equilibrium bond lengths and spring constants at 0.38 nm and 1000 kJ/mol/nm respectively \n",
    "\n",
    "*Angles*: 0.5*k*(cos(angle)-cos(theta0))^2 ; k=10 kJ/mol/rad^2; theta0=180 deg  \n",
    "\n",
    "*Non-bonded*: LJ potential - sigma=0.5 nm; epsilon - 1 kJ/mol"
   ]
  },
  {
   "cell_type": "code",
   "execution_count": 8,
   "id": "fde86b63",
   "metadata": {},
   "outputs": [
    {
     "data": {
      "text/plain": [
       "1"
      ]
     },
     "execution_count": 8,
     "metadata": {},
     "output_type": "execute_result"
    }
   ],
   "source": [
    "harmonic_bond_force = mm.HarmonicBondForce()\n",
    "\n",
    "# Add each bond to the force from the topology\n",
    "for bond in topology.bonds():\n",
    "    harmonic_bond_force.addBond(bond.atom1.index, bond.atom2.index, 0.38, 1000)\n",
    "\n",
    "'''\n",
    "custom_angle = mm.CustomAngleForce(\"0.5*k*(cos(theta)-cos(theta0))^2\")\n",
    "custom_angle.addPerAngleParameter('k')\n",
    "custom_angle.addPerAngleParameter('theta0')\n",
    "# Loop through all chains and assign angles for each three bonded atoms\n",
    "for chain in topology.chains():\n",
    "    atoms = list(chain.atoms())\n",
    "    for i in range(len(atoms) - 2):\n",
    "        custom_angle.addAngle(atoms[i].index, atoms[i+1].index, atoms[i+2].index, [10, 3.14159])\n",
    "'''\n",
    "        \n",
    "# Define a Lennard-Jones potential\n",
    "expression = '4*epsilon*((sigma/r)^12-(sigma/r)^6);'\\\n",
    "            + ' sigma=0.5*(sigma1+sigma2);'\\\n",
    "            + ' epsilon=sqrt(epsilon1*epsilon2)'\n",
    "\n",
    "custom_nb_force = mm.CustomNonbondedForce(expression)\n",
    "\n",
    "custom_nb_force.addPerParticleParameter('sigma')\n",
    "custom_nb_force.addPerParticleParameter('epsilon')\n",
    "\n",
    "# Add the parameters for each particle\n",
    "for atom in topology.atoms():\n",
    "    custom_nb_force.addParticle([0.5, 1.0])\n",
    "\n",
    "# Create exclusions for directly bonded atoms\n",
    "custom_nb_force.createExclusionsFromBonds([(bond[0].index, bond[1].index) for bond in topology.bonds()], 1)\n",
    "\n",
    "# Set a cutoff of 1.5nm\n",
    "custom_nb_force.setNonbondedMethod(mm.CustomNonbondedForce.CutoffPeriodic)\n",
    "custom_nb_force.setCutoffDistance(1.5*unit.nanometers)\n",
    "\n",
    "# Add the forces to the system\n",
    "system.addForce(harmonic_bond_force)\n",
    "#system.addForce(custom_angle)\n",
    "system.addForce(custom_nb_force)"
   ]
  },
  {
   "cell_type": "code",
   "execution_count": 9,
   "id": "8c608789",
   "metadata": {},
   "outputs": [],
   "source": [
    "with open('system1.xml', 'w') as output:\n",
    "    output.write(mm.XmlSerializer.serialize(system))"
   ]
  },
  {
   "cell_type": "code",
   "execution_count": 10,
   "id": "b5c55233",
   "metadata": {},
   "outputs": [
    {
     "name": "stdout",
     "output_type": "stream",
     "text": [
      "#\"Step\",\"Potential Energy (kJ/mole)\",\"Temperature (K)\",\"Box Volume (nm^3)\",\"Speed (ns/day)\"\n",
      "1000,-2579.05341758579,193.78898629733848,1331.0,0\n",
      "2000,-2760.042927503586,224.14985640929433,1331.0,6.56e+03\n",
      "3000,-2667.2781274318695,231.11849172172523,1331.0,6.56e+03\n",
      "4000,-2685.999105580151,240.72352964040704,1331.0,6.45e+03\n",
      "5000,-2778.2200746536255,249.30813780115835,1331.0,6.45e+03\n",
      "6000,-2669.151108264923,248.5653719458498,1331.0,6.59e+03\n",
      "7000,-2527.026636123657,254.4083621903991,1331.0,6.71e+03\n",
      "8000,-2455.047845840454,251.3560011082866,1331.0,6.81e+03\n",
      "9000,-2418.755630970001,254.17191792212907,1331.0,6.89e+03\n",
      "10000,-2471.957194328308,259.8185868809086,1331.0,6.94e+03\n",
      "11000,-2435.6687593460083,261.8869061601297,1252.780305853384,5.79e+03\n",
      "12000,-2667.216323465109,284.5862897082112,1167.7969485426895,5.25e+03\n",
      "13000,-2572.6606636047363,276.75451809152014,1075.812794652569,4.63e+03\n",
      "14000,-2273.3719396591187,266.205423552397,1069.9079544649214,4.3e+03\n",
      "15000,-2322.160106420517,279.13509638775747,1067.309171032744,4.06e+03\n",
      "16000,-2213.801932990551,281.31096788598495,1013.2678026323674,3.81e+03\n",
      "17000,-2264.5355095863342,294.2142618852059,1009.4171043200831,3.67e+03\n",
      "18000,-2206.4918518066406,295.63244003025545,974.4422763113674,3.58e+03\n",
      "19000,-2241.5322728157043,299.45226664388025,889.5842394483356,3.42e+03\n",
      "20000,-2065.5157556533813,289.3823155248,857.132257538614,3.28e+03\n",
      "21000,-2054.714688539505,293.6358839797739,811.9193147296794,3.28e+03\n",
      "22000,-2025.323738336563,291.68053949780233,750.8697770945392,3.23e+03\n",
      "23000,-2050.874413371086,289.6981409335317,686.5876707691754,3.19e+03\n",
      "24000,-2093.8489656448364,298.10871180537816,644.476278824194,3.19e+03\n",
      "25000,-2091.518503189087,292.55983723172295,593.0330276029204,3.14e+03\n",
      "26000,-2027.1203517913818,295.0592406101014,579.1603670203375,3.14e+03\n",
      "27000,-2194.5442905426025,303.1814890330972,506.63849966274825,3.18e+03\n",
      "28000,-2183.2860584259033,294.79762085211615,447.47578889126197,3.22e+03\n",
      "29000,-2106.7504992485046,294.55273951812313,402.31065349039704,3.25e+03\n",
      "30000,-1979.4856796264648,287.36816024243865,353.2331940403154,3.28e+03\n",
      "31000,-2234.3766708374023,304.6314850523721,329.39458826967393,3.28e+03\n",
      "32000,-2123.5590419769287,294.53673282069303,308.24912196179537,3.23e+03\n",
      "33000,-2048.071410179138,291.4305574668585,308.31288975213613,3.18e+03\n",
      "34000,-2117.2601355314255,293.2807860248878,295.3599321507554,3.13e+03\n",
      "35000,-2201.117996931076,306.3991553923755,274.48379118662604,3.09e+03\n",
      "36000,-2144.635934829712,299.72174656704846,256.5517148615736,3.06e+03\n",
      "37000,-2186.0355739593506,306.823163450875,244.19853087095044,3.03e+03\n",
      "38000,-2286.9116649627686,306.36907741531303,208.35384117540946,2.97e+03\n",
      "39000,-2478.11838722229,316.39754548653127,202.33510799163085,2.92e+03\n",
      "40000,-2449.796073913574,308.42164719234137,194.5330627063665,2.89e+03\n",
      "41000,-2406.306089401245,306.5930417608518,193.92623485840537,2.89e+03\n",
      "42000,-2416.4272174835205,305.2080576101021,190.45236428843933,2.87e+03\n",
      "43000,-2578.421049118042,313.5382192010986,185.7912226914723,2.84e+03\n",
      "44000,-2532.865015029907,313.1982387141871,184.05022961573968,2.84e+03\n",
      "45000,-2665.7539863586426,319.35865964222216,176.2949459115084,2.83e+03\n",
      "46000,-2589.404718399048,307.296481209815,171.3258661654905,2.81e+03\n",
      "47000,-2673.950523376465,309.7196383392758,171.61597379389264,2.8e+03\n",
      "48000,-2809.440849304199,312.2740889934997,163.7085844702018,2.77e+03\n",
      "49000,-2896.6106967926025,320.6785031644847,163.7085844702018,2.76e+03\n",
      "50000,-2841.0831298828125,315.74330719579217,160.7518783004154,2.76e+03\n",
      "51000,-2940.9922409057617,319.63894735959366,158.5727119091098,2.74e+03\n",
      "52000,-3004.7935404777527,321.15983777254144,162.01162042228958,2.73e+03\n",
      "53000,-2899.8576011657715,310.364585533152,165.83268001453015,2.74e+03\n",
      "54000,-2933.5315170288086,300.54651483578385,159.75254312675347,2.72e+03\n",
      "55000,-2949.7220497131348,296.9773008245144,160.77265741809515,2.71e+03\n",
      "56000,-3099.7256603240967,311.8310876391139,155.7777177406324,2.71e+03\n",
      "57000,-3223.2059688568115,317.0450144983269,152.66650457824738,2.7e+03\n",
      "58000,-3306.8957862854004,312.2968650542185,151.94360928506651,2.7e+03\n",
      "59000,-3225.9510955810547,306.6375896856632,149.9007625866953,2.69e+03\n",
      "60000,-3302.5287284851074,315.40714160303963,149.86973702661035,2.67e+03\n",
      "61000,-3220.5273361206055,305.5246467425478,152.26085162714233,2.65e+03\n",
      "62000,-3127.7817821502686,303.35575615542035,154.72576432777208,2.63e+03\n",
      "63000,-3187.914749145508,313.6303087898163,153.1362965679207,2.63e+03\n",
      "64000,-3213.627368927002,319.56500335760006,149.9856401132037,2.65e+03\n",
      "65000,-3195.965503692627,311.758923854028,150.93417518616923,2.67e+03\n",
      "66000,-2903.4690341949463,292.91926497873357,156.96912501698515,2.69e+03\n",
      "67000,-3206.4778060913086,314.45675554971774,153.30470428057248,2.71e+03\n",
      "68000,-3144.5402755737305,307.8982035029306,151.01401506489623,2.73e+03\n",
      "69000,-3154.174798965454,316.8714533071649,153.3012922110219,2.74e+03\n",
      "70000,-3091.4510536193848,308.4140702060895,153.79139313743775,2.76e+03\n",
      "71000,-3134.988254547119,307.4498664144922,153.91167927801098,2.75e+03\n",
      "72000,-2988.647508621216,307.52903813612414,156.59609633271012,2.75e+03\n",
      "73000,-3193.6939010620117,313.6991278278295,150.2521560818852,2.75e+03\n",
      "74000,-3120.4777183532715,304.1214125048609,153.42365401469743,2.74e+03\n",
      "75000,-3275.0877361297607,312.4738784409436,149.65406431758794,2.74e+03\n",
      "76000,-3247.5344219207764,310.6151659100369,152.85069251942215,2.73e+03\n",
      "77000,-3171.5469150543213,307.62578254308005,154.69648367504317,2.72e+03\n",
      "78000,-3236.0679092407227,313.52989084859763,151.67219809598103,2.72e+03\n"
     ]
    },
    {
     "ename": "KeyboardInterrupt",
     "evalue": "",
     "output_type": "error",
     "traceback": [
      "\u001b[0;31m---------------------------------------------------------------------------\u001b[0m",
      "\u001b[0;31mKeyboardInterrupt\u001b[0m                         Traceback (most recent call last)",
      "\u001b[0;32m/var/folders/6l/bsgd0nkj2db5jsyjxt0bqlq00000gq/T/ipykernel_2232/211689076.py\u001b[0m in \u001b[0;36m?\u001b[0;34m()\u001b[0m\n\u001b[1;32m     17\u001b[0m \u001b[0;31m# Add a barostat\u001b[0m\u001b[0;34m\u001b[0m\u001b[0;34m\u001b[0m\u001b[0m\n\u001b[1;32m     18\u001b[0m \u001b[0mbarostatIndex\u001b[0m\u001b[0;34m=\u001b[0m\u001b[0msystem\u001b[0m\u001b[0;34m.\u001b[0m\u001b[0maddForce\u001b[0m\u001b[0;34m(\u001b[0m\u001b[0mmm\u001b[0m\u001b[0;34m.\u001b[0m\u001b[0mMonteCarloBarostat\u001b[0m\u001b[0;34m(\u001b[0m\u001b[0;36m1.0\u001b[0m\u001b[0;34m*\u001b[0m\u001b[0munit\u001b[0m\u001b[0;34m.\u001b[0m\u001b[0mbar\u001b[0m\u001b[0;34m,\u001b[0m \u001b[0;36m300\u001b[0m\u001b[0;34m*\u001b[0m\u001b[0munit\u001b[0m\u001b[0;34m.\u001b[0m\u001b[0mkelvin\u001b[0m\u001b[0;34m)\u001b[0m\u001b[0;34m)\u001b[0m\u001b[0;34m\u001b[0m\u001b[0;34m\u001b[0m\u001b[0m\n\u001b[1;32m     19\u001b[0m \u001b[0msimulation\u001b[0m\u001b[0;34m.\u001b[0m\u001b[0mcontext\u001b[0m\u001b[0;34m.\u001b[0m\u001b[0mreinitialize\u001b[0m\u001b[0;34m(\u001b[0m\u001b[0mpreserveState\u001b[0m\u001b[0;34m=\u001b[0m\u001b[0;32mTrue\u001b[0m\u001b[0;34m)\u001b[0m\u001b[0;34m\u001b[0m\u001b[0;34m\u001b[0m\u001b[0m\n\u001b[1;32m     20\u001b[0m \u001b[0;31m# Run NPT equilibration\u001b[0m\u001b[0;34m\u001b[0m\u001b[0;34m\u001b[0m\u001b[0m\n\u001b[0;32m---> 21\u001b[0;31m \u001b[0msimulation\u001b[0m\u001b[0;34m.\u001b[0m\u001b[0mstep\u001b[0m\u001b[0;34m(\u001b[0m\u001b[0;36m100000\u001b[0m\u001b[0;34m)\u001b[0m\u001b[0;34m\u001b[0m\u001b[0;34m\u001b[0m\u001b[0m\n\u001b[0m\u001b[1;32m     22\u001b[0m \u001b[0;34m\u001b[0m\u001b[0m\n\u001b[1;32m     23\u001b[0m \u001b[0;34m\u001b[0m\u001b[0m\n\u001b[1;32m     24\u001b[0m \u001b[0;31m# output the equilibrated configuration\u001b[0m\u001b[0;34m\u001b[0m\u001b[0;34m\u001b[0m\u001b[0m\n",
      "\u001b[0;32m~/miniforge3/lib/python3.12/site-packages/openmm/app/simulation.py\u001b[0m in \u001b[0;36m?\u001b[0;34m(self, steps)\u001b[0m\n\u001b[1;32m    145\u001b[0m     \u001b[0;32mdef\u001b[0m \u001b[0mstep\u001b[0m\u001b[0;34m(\u001b[0m\u001b[0mself\u001b[0m\u001b[0;34m,\u001b[0m \u001b[0msteps\u001b[0m\u001b[0;34m)\u001b[0m\u001b[0;34m:\u001b[0m\u001b[0;34m\u001b[0m\u001b[0;34m\u001b[0m\u001b[0m\n\u001b[1;32m    146\u001b[0m         \u001b[0;34m\"\"\"Advance the simulation by integrating a specified number of time steps.\"\"\"\u001b[0m\u001b[0;34m\u001b[0m\u001b[0;34m\u001b[0m\u001b[0m\n\u001b[0;32m--> 147\u001b[0;31m         \u001b[0mself\u001b[0m\u001b[0;34m.\u001b[0m\u001b[0m_simulate\u001b[0m\u001b[0;34m(\u001b[0m\u001b[0mendStep\u001b[0m\u001b[0;34m=\u001b[0m\u001b[0mself\u001b[0m\u001b[0;34m.\u001b[0m\u001b[0mcurrentStep\u001b[0m\u001b[0;34m+\u001b[0m\u001b[0msteps\u001b[0m\u001b[0;34m)\u001b[0m\u001b[0;34m\u001b[0m\u001b[0;34m\u001b[0m\u001b[0m\n\u001b[0m",
      "\u001b[0;32m~/miniforge3/lib/python3.12/site-packages/openmm/app/simulation.py\u001b[0m in \u001b[0;36m?\u001b[0;34m(self, endStep, endTime)\u001b[0m\n\u001b[1;32m    208\u001b[0m                     \u001b[0mnextSteps\u001b[0m \u001b[0;34m=\u001b[0m \u001b[0mnextReport\u001b[0m\u001b[0;34m[\u001b[0m\u001b[0mi\u001b[0m\u001b[0;34m]\u001b[0m\u001b[0;34m[\u001b[0m\u001b[0;36m0\u001b[0m\u001b[0;34m]\u001b[0m\u001b[0;34m\u001b[0m\u001b[0;34m\u001b[0m\u001b[0m\n\u001b[1;32m    209\u001b[0m                     \u001b[0manyReport\u001b[0m \u001b[0;34m=\u001b[0m \u001b[0;32mTrue\u001b[0m\u001b[0;34m\u001b[0m\u001b[0;34m\u001b[0m\u001b[0m\n\u001b[1;32m    210\u001b[0m             \u001b[0mstepsToGo\u001b[0m \u001b[0;34m=\u001b[0m \u001b[0mnextSteps\u001b[0m\u001b[0;34m\u001b[0m\u001b[0;34m\u001b[0m\u001b[0m\n\u001b[1;32m    211\u001b[0m             \u001b[0;32mwhile\u001b[0m \u001b[0mstepsToGo\u001b[0m \u001b[0;34m>\u001b[0m \u001b[0;36m10\u001b[0m\u001b[0;34m:\u001b[0m\u001b[0;34m\u001b[0m\u001b[0;34m\u001b[0m\u001b[0m\n\u001b[0;32m--> 212\u001b[0;31m                 \u001b[0mself\u001b[0m\u001b[0;34m.\u001b[0m\u001b[0mintegrator\u001b[0m\u001b[0;34m.\u001b[0m\u001b[0mstep\u001b[0m\u001b[0;34m(\u001b[0m\u001b[0;36m10\u001b[0m\u001b[0;34m)\u001b[0m \u001b[0;31m# Only take 10 steps at a time, to give Python more chances to respond to a control-c.\u001b[0m\u001b[0;34m\u001b[0m\u001b[0;34m\u001b[0m\u001b[0m\n\u001b[0m\u001b[1;32m    213\u001b[0m                 \u001b[0mstepsToGo\u001b[0m \u001b[0;34m-=\u001b[0m \u001b[0;36m10\u001b[0m\u001b[0;34m\u001b[0m\u001b[0;34m\u001b[0m\u001b[0m\n\u001b[1;32m    214\u001b[0m                 \u001b[0;32mif\u001b[0m \u001b[0mendTime\u001b[0m \u001b[0;32mis\u001b[0m \u001b[0;32mnot\u001b[0m \u001b[0;32mNone\u001b[0m \u001b[0;32mand\u001b[0m \u001b[0mdatetime\u001b[0m\u001b[0;34m.\u001b[0m\u001b[0mnow\u001b[0m\u001b[0;34m(\u001b[0m\u001b[0;34m)\u001b[0m \u001b[0;34m>=\u001b[0m \u001b[0mendTime\u001b[0m\u001b[0;34m:\u001b[0m\u001b[0;34m\u001b[0m\u001b[0;34m\u001b[0m\u001b[0m\n\u001b[1;32m    215\u001b[0m                     \u001b[0;32mreturn\u001b[0m\u001b[0;34m\u001b[0m\u001b[0;34m\u001b[0m\u001b[0m\n",
      "\u001b[0;32m~/miniforge3/lib/python3.12/site-packages/openmm/openmm.py\u001b[0m in \u001b[0;36m?\u001b[0;34m(self, steps)\u001b[0m\n\u001b[1;32m  11952\u001b[0m         \u001b[0;34m-\u001b[0m\u001b[0;34m-\u001b[0m\u001b[0;34m-\u001b[0m\u001b[0;34m-\u001b[0m\u001b[0;34m-\u001b[0m\u001b[0;34m-\u001b[0m\u001b[0;34m-\u001b[0m\u001b[0;34m-\u001b[0m\u001b[0;34m-\u001b[0m\u001b[0;34m-\u001b[0m\u001b[0;34m\u001b[0m\u001b[0;34m\u001b[0m\u001b[0m\n\u001b[1;32m  11953\u001b[0m         \u001b[0msteps\u001b[0m \u001b[0;34m:\u001b[0m \u001b[0mint\u001b[0m\u001b[0;34m\u001b[0m\u001b[0;34m\u001b[0m\u001b[0m\n\u001b[1;32m  11954\u001b[0m             \u001b[0mthe\u001b[0m \u001b[0mnumber\u001b[0m \u001b[0mof\u001b[0m \u001b[0mtime\u001b[0m \u001b[0msteps\u001b[0m \u001b[0mto\u001b[0m \u001b[0mtake\u001b[0m\u001b[0;34m\u001b[0m\u001b[0;34m\u001b[0m\u001b[0m\n\u001b[1;32m  11955\u001b[0m         \"\"\"\n\u001b[0;32m> 11956\u001b[0;31m         \u001b[0;32mreturn\u001b[0m \u001b[0m_openmm\u001b[0m\u001b[0;34m.\u001b[0m\u001b[0mLangevinMiddleIntegrator_step\u001b[0m\u001b[0;34m(\u001b[0m\u001b[0mself\u001b[0m\u001b[0;34m,\u001b[0m \u001b[0msteps\u001b[0m\u001b[0;34m)\u001b[0m\u001b[0;34m\u001b[0m\u001b[0;34m\u001b[0m\u001b[0m\n\u001b[0m",
      "\u001b[0;31mKeyboardInterrupt\u001b[0m: "
     ]
    }
   ],
   "source": [
    "#Running the simulation - very similar to proein-in_water simulation\n",
    "integrator = mm.LangevinMiddleIntegrator(300*unit.kelvin, 0.01/unit.picosecond, 0.010*unit.picoseconds)\n",
    "simulation = app.Simulation(topology, system, integrator)\n",
    "simulation.context.setPositions(positions)\n",
    "\n",
    "# setup simulation reporters\n",
    "# Write the trajectory to a file called 'traj.dcd'\n",
    "simulation.reporters.append(app.DCDReporter('traj.dcd', 1000, enforcePeriodicBox=False))\n",
    "\n",
    "# Report information to the screen as the simulation runs\n",
    "simulation.reporters.append(app.StateDataReporter(stdout, 1000, step=True,\n",
    "        potentialEnergy=True, temperature=True, volume=True, speed=True))\n",
    "\n",
    "\n",
    "# NVT equilibration\n",
    "simulation.step(10000)\n",
    "# Add a barostat\n",
    "barostatIndex=system.addForce(mm.MonteCarloBarostat(1.0*unit.bar, 300*unit.kelvin))\n",
    "simulation.context.reinitialize(preserveState=True)\n",
    "# Run NPT equilibration\n",
    "simulation.step(100000)\n",
    "\n",
    "\n",
    "# output the equilibrated configuration\n",
    "with open('equilibrated_config.pdb','w') as f:\n",
    "    state = simulation.context.getState(getPositions=True, enforcePeriodicBox=True)\n",
    "    topology.setPeriodicBoxVectors(state.getPeriodicBoxVectors())\n",
    "    app.PDBFile.writeFile(topology, state.getPositions(), f)\n"
   ]
  },
  {
   "cell_type": "code",
   "execution_count": null,
   "id": "cbc90b34",
   "metadata": {},
   "outputs": [],
   "source": []
  }
 ],
 "metadata": {
  "kernelspec": {
   "display_name": "base",
   "language": "python",
   "name": "python3"
  },
  "language_info": {
   "codemirror_mode": {
    "name": "ipython",
    "version": 3
   },
   "file_extension": ".py",
   "mimetype": "text/x-python",
   "name": "python",
   "nbconvert_exporter": "python",
   "pygments_lexer": "ipython3",
   "version": "3.12.6"
  }
 },
 "nbformat": 4,
 "nbformat_minor": 5
}
