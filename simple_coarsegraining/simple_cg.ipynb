{
 "cells": [
  {
   "cell_type": "code",
   "execution_count": 1,
   "id": "167a5b95-b5e7-4561-87c4-d88d6da37102",
   "metadata": {},
   "outputs": [],
   "source": [
    "import openmm as mm\n",
    "import openmm.app as app\n",
    "import openmm.unit as unit\n",
    "import numpy as np\n",
    "import itertools\n",
    "from sys import stdout"
   ]
  },
  {
   "cell_type": "markdown",
   "id": "1130b41a",
   "metadata": {},
   "source": [
    "\n",
    "### Creates a coarse-grained (CG) element to be used in simulations.\n",
    "\n",
    "This is an interesting feature that you'd only encounter in coarse-grained simulations. In CG, of course, you'd NEED to deifne the \"atomic number\", mass, charge etc of the CG center that you are creating. That's what we do next."
   ]
  },
  {
   "cell_type": "code",
   "execution_count": 2,
   "id": "c97afaf8",
   "metadata": {},
   "outputs": [
    {
     "data": {
      "text/plain": [
       "\"\\n#Given a set of masses, create a set of elements\\nif 'elements_initialized' not in globals():\\n    elements = []\\n    for i, mass in enumerate(MASS):\\n        element = app.Element(number=1000 + i, name=f'C{i+1}', symbol=f'C{i+1}', mass=mass)\\n        elements.append(element)\\n    elements_initialized = True\\n\""
      ]
     },
     "execution_count": 2,
     "metadata": {},
     "output_type": "execute_result"
    }
   ],
   "source": [
    "cgElement = app.Element(number=1000, name='CG-element', symbol='CG', mass=120)\n",
    "\n",
    "'''\n",
    "#Given a set of masses, create a set of elements\n",
    "if 'elements_initialized' not in globals():\n",
    "    elements = []\n",
    "    for i, mass in enumerate(MASS):\n",
    "        element = app.Element(number=1000 + i, name=f'C{i+1}', symbol=f'C{i+1}', mass=mass)\n",
    "        elements.append(element)\n",
    "    elements_initialized = True\n",
    "'''"
   ]
  },
  {
   "cell_type": "code",
   "execution_count": 3,
   "id": "2a6ab72e",
   "metadata": {},
   "outputs": [],
   "source": [
    "# Make an empty topology\n",
    "topology = app.Topology()"
   ]
  },
  {
   "cell_type": "markdown",
   "id": "accde1cf",
   "metadata": {},
   "source": [
    "### The System\n",
    "\n",
    "In this notebook, we will create a simulation box with 100 polymer chains, with 10 beads each. "
   ]
  },
  {
   "cell_type": "code",
   "execution_count": 4,
   "id": "6881954a",
   "metadata": {},
   "outputs": [
    {
     "name": "stdout",
     "output_type": "stream",
     "text": [
      "<Topology; 100 chains, 1000 residues, 1000 atoms, 900 bonds>\n"
     ]
    }
   ],
   "source": [
    "# Number of polymer chains\n",
    "M = 100\n",
    "# Number of atoms in each chain\n",
    "N = 10\n",
    "\n",
    "# Add each chain to the topology\n",
    "for m in range(M):\n",
    "    chain = topology.addChain()\n",
    "    atom1 = topology.addAtom(name=\"CG-bead\", element=cgElement, residue=topology.addResidue(name=\"CG-residue\", chain=chain))\n",
    "    \n",
    "    for i in range(1, N):\n",
    "        atom2 = topology.addAtom(name=\"CG-bead\", element=cgElement, residue=topology.addResidue(name=\"CG-residue\", chain=chain))\n",
    "        topology.addBond(atom1, atom2)\n",
    "        atom1 = atom2\n",
    "\n",
    "# Check the topology\n",
    "print(topology)\n"
   ]
  },
  {
   "cell_type": "markdown",
   "id": "39518647",
   "metadata": {},
   "source": [
    "Now, we place the beads in a grid. Distance between beads in a single polymer is 0.38 nm"
   ]
  },
  {
   "cell_type": "code",
   "execution_count": 5,
   "id": "5e6a516f",
   "metadata": {},
   "outputs": [],
   "source": [
    "# Initialize an empty list to store positions\n",
    "positions = []\n",
    "# Loop over each polymer chain\n",
    "for m in range(M):\n",
    "    # Calculate the initial position for the first bead in the chain\n",
    "    x0 = np.array(((m % 10) * 1.0, (m // 10) * 1.0, 0))\n",
    "    positions.append(x0)    \n",
    "    # Loop over the remaining beads in the chain\n",
    "    for i in range(1, N):\n",
    "        # Calculate the position for the next bead in the chain\n",
    "        xi = positions[-1] + np.array((0, 0, 0.38))\n",
    "        positions.append(xi)\n",
    "\n",
    "# Convert the list of positions into an OpenMM Quantity with units of nanometers\n",
    "positions = positions * unit.nanometer\n",
    "# Ensure the number of positions matches the number of atoms in the topology\n",
    "assert len(positions) == topology.getNumAtoms()\n",
    "# Set the periodic box vectors to create a cubic box with a length of 11 nm\n",
    "topology.setPeriodicBoxVectors(np.eye(3) * 11.0 * unit.nanometers)\n"
   ]
  },
  {
   "cell_type": "code",
   "execution_count": 6,
   "id": "d33a3b3e",
   "metadata": {},
   "outputs": [],
   "source": [
    "# output the initial configuration. Save it to a file\n",
    "with open('initial_config.pdb','w') as f:\n",
    "    app.PDBFile.writeFile(topology, positions, f)\n"
   ]
  },
  {
   "cell_type": "markdown",
   "id": "d820a338",
   "metadata": {},
   "source": [
    "At this point, we now move to OpenMM, and prepare the simulation."
   ]
  },
  {
   "cell_type": "code",
   "execution_count": 7,
   "id": "72f69890",
   "metadata": {},
   "outputs": [],
   "source": [
    "# create the system and add the particles to it\n",
    "system = mm.System()\n",
    "system.setDefaultPeriodicBoxVectors(*topology.getPeriodicBoxVectors())\n",
    "for atom in topology.atoms():\n",
    "    system.addParticle(atom.element.mass)"
   ]
  },
  {
   "cell_type": "markdown",
   "id": "fe0a8192",
   "metadata": {},
   "source": [
    "### Defining the Force Field\n",
    "\n",
    "This section summarizes the custom force field parameters used in the simulation. The interactions include bonded (bonds, angles) and non-bonded (van der Waals) terms.\n",
    "\n",
    "---\n",
    "\n",
    "#### **Bonds**\n",
    "\n",
    "Modeled as harmonic springs:\n",
    "\n",
    "$$\n",
    "U_{\\text{bond}}(r) = \\frac{1}{2} k_b (r - r_0)^2\n",
    "$$\n",
    "\n",
    "**Parameters**:\n",
    "- $r_0 = 0.38 \\, \\text{nm}$ (equilibrium bond length)  \n",
    "- $k_b = 1000 \\, \\text{kJ/mol/nm}^2$ (bond spring constant)\n",
    "\n",
    "---\n",
    "\n",
    "#### **Angles**\n",
    "\n",
    "Modeled using a cosine-based harmonic potential:\n",
    "\n",
    "$$\n",
    "U_{\\text{angle}}(\\theta) = \\frac{1}{2} k_a \\left( \\cos\\theta - \\cos\\theta_0 \\right)^2\n",
    "$$\n",
    "\n",
    "**Parameters**:\n",
    "- $\\theta_0 = 180^\\circ$ (equilibrium angle)  \n",
    "- $k_a = 10 \\, \\text{kJ/mol}$\n",
    "\n",
    "> This form avoids singularities near \\(180^\\circ\\) and is numerically stable.\n",
    "\n",
    "---\n",
    "\n",
    "#### **Non-Bonded Interactions**\n",
    "\n",
    "Modeled using the Lennard-Jones (LJ) potential:\n",
    "\n",
    "$$\n",
    "U_{\\text{LJ}}(r) = 4\\epsilon \\left[ \\left( \\frac{\\sigma}{r} \\right)^{12} - \\left( \\frac{\\sigma}{r} \\right)^6 \\right]\n",
    "$$\n",
    "\n",
    "**Parameters**:\n",
    "- $\\sigma = 0.5 \\, \\text{nm}$ (particle diameter)  \n",
    "- $\\epsilon = 1 \\, \\text{kJ/mol}$ (interaction strength)"
   ]
  },
  {
   "cell_type": "code",
   "execution_count": 8,
   "id": "fde86b63",
   "metadata": {},
   "outputs": [
    {
     "data": {
      "text/plain": [
       "1"
      ]
     },
     "execution_count": 8,
     "metadata": {},
     "output_type": "execute_result"
    }
   ],
   "source": [
    "harmonic_bond_force = mm.HarmonicBondForce()\n",
    "\n",
    "# Add each bond to the force from the topology\n",
    "for bond in topology.bonds():\n",
    "    harmonic_bond_force.addBond(bond.atom1.index, bond.atom2.index, 0.38, 1000)\n",
    "\n",
    "'''\n",
    "custom_angle = mm.CustomAngleForce(\"0.5*k*(cos(theta)-cos(theta0))^2\")\n",
    "custom_angle.addPerAngleParameter('k')\n",
    "custom_angle.addPerAngleParameter('theta0')\n",
    "# Loop through all chains and assign angles for each three bonded atoms\n",
    "for chain in topology.chains():\n",
    "    atoms = list(chain.atoms())\n",
    "    for i in range(len(atoms) - 2):\n",
    "        custom_angle.addAngle(atoms[i].index, atoms[i+1].index, atoms[i+2].index, [10, 3.14159])\n",
    "'''\n",
    "        \n",
    "# Define a Lennard-Jones potential\n",
    "expression = '4*epsilon*((sigma/r)^12-(sigma/r)^6);'\\\n",
    "            + ' sigma=0.5*(sigma1+sigma2);'\\\n",
    "            + ' epsilon=sqrt(epsilon1*epsilon2)'\n",
    "\n",
    "custom_nb_force = mm.CustomNonbondedForce(expression)\n",
    "\n",
    "custom_nb_force.addPerParticleParameter('sigma')\n",
    "custom_nb_force.addPerParticleParameter('epsilon')\n",
    "\n",
    "# Add the parameters for each particle\n",
    "for atom in topology.atoms():\n",
    "    custom_nb_force.addParticle([0.5, 1.0])\n",
    "\n",
    "# Create exclusions for directly bonded atoms\n",
    "custom_nb_force.createExclusionsFromBonds([(bond[0].index, bond[1].index) for bond in topology.bonds()], 1)\n",
    "\n",
    "# Set a cutoff of 1.5nm\n",
    "custom_nb_force.setNonbondedMethod(mm.CustomNonbondedForce.CutoffPeriodic)\n",
    "custom_nb_force.setCutoffDistance(1.5*unit.nanometers)\n",
    "\n",
    "# Add the forces to the system\n",
    "system.addForce(harmonic_bond_force)\n",
    "#system.addForce(custom_angle)\n",
    "system.addForce(custom_nb_force)"
   ]
  },
  {
   "cell_type": "code",
   "execution_count": 9,
   "id": "8c608789",
   "metadata": {},
   "outputs": [],
   "source": [
    "with open('system1.xml', 'w') as output:\n",
    "    output.write(mm.XmlSerializer.serialize(system))"
   ]
  },
  {
   "cell_type": "code",
   "execution_count": 10,
   "id": "b5c55233",
   "metadata": {},
   "outputs": [
    {
     "name": "stdout",
     "output_type": "stream",
     "text": [
      "#\"Step\",\"Potential Energy (kJ/mole)\",\"Temperature (K)\",\"Box Volume (nm^3)\",\"Speed (ns/day)\"\n",
      "1000,-2570.7992219775915,194.9244410111472,1331.0,0\n",
      "2000,-2727.0631363987923,222.68596890893,1331.0,7.91e+03\n",
      "3000,-2788.976452499628,245.1090005981115,1331.0,7.85e+03\n",
      "4000,-2613.0617503225803,246.48464441453888,1331.0,7.85e+03\n",
      "5000,-2606.836517047137,254.06478948758394,1331.0,7.9e+03\n",
      "6000,-2443.515540599823,254.64668765949793,1331.0,7.81e+03\n",
      "7000,-2294.4274708926678,252.94248852641903,1331.0,7.74e+03\n",
      "8000,-2397.0240519046783,263.05105406161755,1331.0,7.71e+03\n",
      "9000,-2218.9874382019043,261.8222236528953,1331.0,7.68e+03\n",
      "10000,-2254.5894656181335,268.42718940570137,1331.0,7.68e+03\n",
      "11000,-2251.2277550697327,277.6650884217085,1198.8159005306327,6.44e+03\n",
      "12000,-2265.371911227703,280.84634683293643,1186.5795127948938,5.64e+03\n",
      "13000,-2170.467927157879,283.2448660092414,1133.4738467910913,5.1e+03\n",
      "14000,-2031.8345263004303,281.72453515328795,1078.1459982720223,4.86e+03\n",
      "15000,-2071.3075736761093,285.6413223398002,1001.8707716883996,4.89e+03\n",
      "16000,-2035.1831169128418,293.1206219643224,947.8535070772708,4.79e+03\n",
      "17000,-2101.908124446869,298.77051992220305,866.0284513999216,4.63e+03\n",
      "18000,-2069.5359468460083,295.959532342915,866.3305687957404,4.52e+03\n",
      "19000,-1994.6108748912811,294.3895528432449,855.8203580477665,4.55e+03\n",
      "20000,-1906.4054072499275,291.5428440698051,826.7302452252778,4.59e+03\n",
      "21000,-1961.6729278564453,293.18055218576404,754.6909590678031,4.49e+03\n",
      "22000,-1851.9389371275902,290.54541378938376,719.4808443075576,4.34e+03\n",
      "23000,-1957.1459065675735,295.91970348625773,691.5971999300917,4.36e+03\n",
      "24000,-1837.2914123535156,282.0263945720636,637.0952163055683,4.37e+03\n",
      "25000,-2056.6750499010086,299.16870649711683,511.6081219107876,4.25e+03\n",
      "26000,-2159.943641602993,305.4071431557501,468.8479723132469,4.17e+03\n",
      "27000,-2111.9725139141083,298.46399287470905,447.76855219678583,4.07e+03\n",
      "28000,-2105.2783039808273,293.8959816521388,400.0369721043611,4.06e+03\n",
      "29000,-1968.7868976593018,284.2529918180226,363.7374730938154,4.09e+03\n",
      "30000,-2334.8569564819336,314.2476642246695,317.5919617313415,4.12e+03\n",
      "31000,-2282.430393218994,314.2076423235225,315.3895245837683,4.14e+03\n",
      "32000,-2203.9945430755615,310.08368914805,290.10522225310785,4.16e+03\n",
      "33000,-2274.0585327148438,310.05433812851146,267.2364601555126,4.19e+03\n",
      "34000,-2183.071195602417,306.2631215448144,248.79544622800768,4.17e+03\n",
      "35000,-2126.6866493225098,297.089850159768,223.84690170630228,4.18e+03\n",
      "36000,-2211.5182609558105,305.301627493973,213.29274411628464,4.2e+03\n",
      "37000,-2330.55660200119,309.7388142404733,202.52594109567136,4.22e+03\n",
      "38000,-2413.098154067993,309.8837264876805,194.05609613168684,4.23e+03\n",
      "39000,-2534.5900115966797,312.27238009941635,185.94836007978597,4.25e+03\n",
      "40000,-2691.5121994018555,319.5698478106158,173.18411020552392,4.27e+03\n",
      "41000,-2752.6596336364746,317.29649632730656,165.90313059811606,4.28e+03\n",
      "42000,-2781.888120651245,307.23103485475696,163.42339284436392,4.3e+03\n",
      "43000,-3088.9846782684326,321.4766947583499,157.56924730418606,4.31e+03\n",
      "44000,-3037.66552734375,321.92359714977556,154.06037535899637,4.32e+03\n",
      "45000,-3073.552225112915,325.74099269920134,153.8854613373866,4.29e+03\n",
      "46000,-2994.538516998291,319.92492979520915,157.37715920767266,4.31e+03\n",
      "47000,-3023.7546043395996,317.524834256799,157.3934667333089,4.32e+03\n",
      "48000,-2976.3434295654297,309.7787140945964,161.39631057436895,4.32e+03\n",
      "49000,-3058.2620124816895,314.8842734839847,156.5656091476953,4.33e+03\n",
      "50000,-3102.207082748413,313.9158033875615,157.22009487241402,4.34e+03\n",
      "51000,-3137.7933807373047,305.2297419636429,154.2091007648398,4.35e+03\n",
      "52000,-3179.430913925171,313.815882031781,154.26156464311796,4.36e+03\n",
      "53000,-3208.7943534851074,310.05859684190517,151.3622632151046,4.36e+03\n",
      "54000,-3287.117364883423,313.5202475592635,152.2421158702658,4.33e+03\n",
      "55000,-3074.499979019165,294.2953041729893,156.94169717485602,4.33e+03\n",
      "56000,-3090.414960861206,297.6046951954716,157.0805391998063,4.3e+03\n",
      "57000,-3237.629846572876,303.8827452482682,148.51740370509734,4.31e+03\n",
      "58000,-3339.758155822754,316.8759877634185,147.61607665389974,4.31e+03\n",
      "59000,-3392.765347957611,322.3082560573908,149.4489919463588,4.32e+03\n",
      "60000,-3221.5839138031006,304.61164291062215,151.6784854111648,4.33e+03\n",
      "61000,-3265.711622238159,303.90189435961906,149.57626309578993,4.34e+03\n",
      "62000,-3216.208417892456,292.40978359795525,150.01455895919764,4.34e+03\n",
      "63000,-3276.438777923584,299.23176210846754,151.14698305258108,4.34e+03\n",
      "64000,-3447.218593597412,315.07077017010283,145.45708813469628,4.35e+03\n",
      "65000,-3333.3359985351562,295.1548653986395,149.07421745358835,4.35e+03\n",
      "66000,-3392.9106578826904,293.4862330129642,146.65448466069773,4.31e+03\n",
      "67000,-3447.6448249816895,296.4803359525415,146.8198262793041,4.31e+03\n",
      "68000,-3421.619701385498,292.07910663164535,148.7828989870769,4.32e+03\n",
      "69000,-3417.0988960266113,291.5665960777825,148.68646270702283,4.33e+03\n",
      "70000,-3453.9177627563477,294.8815709295214,148.798446790722,4.33e+03\n",
      "71000,-3599.554374694824,300.888802084315,148.63549974209081,4.34e+03\n",
      "72000,-3460.445899963379,294.3609588832825,147.79608546868965,4.34e+03\n",
      "73000,-3495.5589561462402,297.8345847979771,146.75719956068713,4.35e+03\n",
      "74000,-3278.6328773498535,282.23380611272586,148.0060227265876,4.35e+03\n",
      "75000,-3493.0639686584473,301.5270553959244,142.838121312502,4.36e+03\n",
      "76000,-3402.841526031494,300.98418201824137,146.0319113229841,4.36e+03\n",
      "77000,-3283.5151710510254,285.7866192528325,151.81489101368203,4.32e+03\n",
      "78000,-3354.6228218078613,294.01190488172386,149.3151176010079,4.32e+03\n",
      "79000,-3348.8053436279297,291.3128807271739,149.50994408412984,4.3e+03\n",
      "80000,-3265.122175216675,292.6390040318305,151.8764371825131,4.29e+03\n",
      "81000,-3299.552989959717,303.16265178827484,150.23953307660437,4.28e+03\n",
      "82000,-3283.518624305725,304.66252655228215,152.88527868081061,4.28e+03\n",
      "83000,-3276.6194190979004,298.1703074122411,149.97970686774198,4.29e+03\n",
      "84000,-3285.3581504821777,297.5643588409081,147.29111871949152,4.3e+03\n",
      "85000,-3359.009178161621,299.83837755367085,149.2759653462816,4.3e+03\n",
      "86000,-3375.4763526916504,302.03652972724217,149.26958211032158,4.3e+03\n",
      "87000,-3330.542751312256,294.8910596875006,150.92262161013434,4.3e+03\n",
      "88000,-3368.020217895508,294.72780056796626,146.13282571162745,4.31e+03\n",
      "89000,-3451.801827430725,299.61150730972696,145.5870915450804,4.32e+03\n",
      "90000,-3543.396245956421,306.51604168488547,142.79376312042967,4.29e+03\n",
      "91000,-3372.2149810791016,295.1586408278573,148.9283210757574,4.26e+03\n",
      "92000,-3445.1040592193604,293.8105158051168,147.9315332620384,4.23e+03\n",
      "93000,-3429.9027004241943,298.45147068314316,147.11981850105548,4.2e+03\n",
      "94000,-3250.839292526245,290.64114988072026,149.04709339926592,4.17e+03\n",
      "95000,-3352.6814918518066,295.25959533926743,148.42695920027768,4.14e+03\n",
      "96000,-3426.865436553955,299.4808744163855,146.73082725036997,4.11e+03\n",
      "97000,-3309.553569793701,291.21538285511855,146.01432899778123,4.11e+03\n",
      "98000,-3451.0376930236816,299.7229459864314,148.54050280191262,4.12e+03\n",
      "99000,-3364.823268890381,295.4346477614613,147.02053868569828,4.12e+03\n",
      "100000,-3311.706283569336,292.42266889326567,151.73020476782256,4.09e+03\n",
      "101000,-3392.5042037963867,302.5786073762184,147.27342289863407,4.08e+03\n",
      "102000,-3314.2341136932373,298.91328444151975,151.76572180376527,4.08e+03\n",
      "103000,-3547.077308654785,311.54166456660266,144.5316474577314,4.09e+03\n",
      "104000,-3333.32940864563,293.9818172111119,150.9388328552602,4.1e+03\n",
      "105000,-3260.4328622817993,286.5698298299017,151.77779290176656,4.11e+03\n",
      "106000,-3275.0807609558105,287.30836825918345,149.5904846490679,4.11e+03\n",
      "107000,-3337.368715286255,289.1192122155369,151.2747350749414,4.12e+03\n",
      "108000,-3467.3376121520996,298.07126753637834,145.52511621615153,4.12e+03\n",
      "109000,-3418.061866760254,291.7189206705846,145.32562123047464,4.13e+03\n",
      "110000,-3390.5145568847656,293.59819283045624,148.552347441713,4.14e+03\n"
     ]
    }
   ],
   "source": [
    "#Running the simulation - very similar to proein-in_water simulation\n",
    "integrator = mm.LangevinMiddleIntegrator(300*unit.kelvin, 0.01/unit.picosecond, 0.010*unit.picoseconds)\n",
    "simulation = app.Simulation(topology, system, integrator)\n",
    "simulation.context.setPositions(positions)\n",
    "\n",
    "# setup simulation reporters\n",
    "# Write the trajectory to a file called 'traj.dcd'\n",
    "simulation.reporters.append(app.DCDReporter('traj.dcd', 1000, enforcePeriodicBox=False))\n",
    "\n",
    "# Report information to the screen as the simulation runs\n",
    "simulation.reporters.append(app.StateDataReporter(stdout, 1000, step=True,\n",
    "        potentialEnergy=True, temperature=True, volume=True, speed=True))\n",
    "\n",
    "\n",
    "# NVT equilibration\n",
    "simulation.step(10000)\n",
    "# Add a barostat\n",
    "barostatIndex=system.addForce(mm.MonteCarloBarostat(1.0*unit.bar, 300*unit.kelvin))\n",
    "simulation.context.reinitialize(preserveState=True)\n",
    "# Run NPT equilibration\n",
    "simulation.step(100000)\n",
    "\n",
    "\n",
    "# output the equilibrated configuration\n",
    "with open('equilibrated_config.pdb','w') as f:\n",
    "    state = simulation.context.getState(getPositions=True, enforcePeriodicBox=True)\n",
    "    topology.setPeriodicBoxVectors(state.getPeriodicBoxVectors())\n",
    "    app.PDBFile.writeFile(topology, state.getPositions(), f)\n"
   ]
  },
  {
   "cell_type": "code",
   "execution_count": null,
   "id": "cbc90b34",
   "metadata": {},
   "outputs": [],
   "source": []
  }
 ],
 "metadata": {
  "kernelspec": {
   "display_name": "base",
   "language": "python",
   "name": "python3"
  },
  "language_info": {
   "codemirror_mode": {
    "name": "ipython",
    "version": 3
   },
   "file_extension": ".py",
   "mimetype": "text/x-python",
   "name": "python",
   "nbconvert_exporter": "python",
   "pygments_lexer": "ipython3",
   "version": "3.12.6"
  }
 },
 "nbformat": 4,
 "nbformat_minor": 5
}
