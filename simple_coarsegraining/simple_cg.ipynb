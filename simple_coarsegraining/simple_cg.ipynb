{
 "cells": [
  {
   "cell_type": "code",
   "execution_count": 1,
   "id": "167a5b95-b5e7-4561-87c4-d88d6da37102",
   "metadata": {},
   "outputs": [],
   "source": [
    "import openmm as mm\n",
    "import openmm.app as app\n",
    "import openmm.unit as unit\n",
    "import numpy as np\n",
    "import itertools\n",
    "from sys import stdout"
   ]
  },
  {
   "cell_type": "markdown",
   "id": "1130b41a",
   "metadata": {},
   "source": [
    "\n",
    "### Creates a coarse-grained (CG) element to be used in simulations.\n",
    "\n",
    "This is an interesting feature that you'd only encounter in coarse-grained simulations. In CG, of course, you'd NEED to deifne the \"atomic number\", mass, charge etc of the CG center that you are creating. That's what we do next."
   ]
  },
  {
   "cell_type": "code",
   "execution_count": 2,
   "id": "c97afaf8",
   "metadata": {},
   "outputs": [
    {
     "data": {
      "text/plain": [
       "\"\\n#Given a set of masses, create a set of elements\\nif 'elements_initialized' not in globals():\\n    elements = []\\n    for i, mass in enumerate(MASS):\\n        element = app.Element(number=1000 + i, name=f'C{i+1}', symbol=f'C{i+1}', mass=mass)\\n        elements.append(element)\\n    elements_initialized = True\\n\""
      ]
     },
     "execution_count": 2,
     "metadata": {},
     "output_type": "execute_result"
    }
   ],
   "source": [
    "cgElement = app.Element(number=1000, name='CG-element', symbol='CG', mass=120)\n",
    "\n",
    "'''\n",
    "#Given a set of masses, create a set of elements\n",
    "if 'elements_initialized' not in globals():\n",
    "    elements = []\n",
    "    for i, mass in enumerate(MASS):\n",
    "        element = app.Element(number=1000 + i, name=f'C{i+1}', symbol=f'C{i+1}', mass=mass)\n",
    "        elements.append(element)\n",
    "    elements_initialized = True\n",
    "'''"
   ]
  },
  {
   "cell_type": "code",
   "execution_count": 3,
   "id": "2a6ab72e",
   "metadata": {},
   "outputs": [],
   "source": [
    "# Make an empty topology\n",
    "topology = app.Topology()"
   ]
  },
  {
   "cell_type": "markdown",
   "id": "accde1cf",
   "metadata": {},
   "source": [
    "### The System\n",
    "\n",
    "In this notebook, we will create a simulation box with 100 polymer chains, with 10 beads each. "
   ]
  },
  {
   "cell_type": "code",
   "execution_count": 4,
   "id": "6881954a",
   "metadata": {},
   "outputs": [
    {
     "name": "stdout",
     "output_type": "stream",
     "text": [
      "<Topology; 100 chains, 1000 residues, 1000 atoms, 900 bonds>\n"
     ]
    }
   ],
   "source": [
    "# Number of polymer chains\n",
    "M = 100\n",
    "# Number of atoms in each chain\n",
    "N = 10\n",
    "\n",
    "# Add each chain to the topology\n",
    "for m in range(M):\n",
    "    chain = topology.addChain()\n",
    "    atom1 = topology.addAtom(name=\"CG-bead\", element=cgElement, residue=topology.addResidue(name=\"CG-residue\", chain=chain))\n",
    "    \n",
    "    for i in range(1, N):\n",
    "        atom2 = topology.addAtom(name=\"CG-bead\", element=cgElement, residue=topology.addResidue(name=\"CG-residue\", chain=chain))\n",
    "        topology.addBond(atom1, atom2)\n",
    "        atom1 = atom2\n",
    "\n",
    "# Check the topology\n",
    "print(topology)\n"
   ]
  },
  {
   "cell_type": "markdown",
   "id": "39518647",
   "metadata": {},
   "source": [
    "Now, we place the beads in a grid. Distance between beads in a single polymer is 0.38 nm"
   ]
  },
  {
   "cell_type": "code",
   "execution_count": 5,
   "id": "5e6a516f",
   "metadata": {},
   "outputs": [],
   "source": [
    "# Initialize an empty list to store positions\n",
    "positions = []\n",
    "# Loop over each polymer chain\n",
    "for m in range(M):\n",
    "    # Calculate the initial position for the first bead in the chain\n",
    "    x0 = np.array(((m % 10) * 1.0, (m // 10) * 1.0, 0))\n",
    "    positions.append(x0)    \n",
    "    # Loop over the remaining beads in the chain\n",
    "    for i in range(1, N):\n",
    "        # Calculate the position for the next bead in the chain\n",
    "        xi = positions[-1] + np.array((0, 0, 0.38))\n",
    "        positions.append(xi)\n",
    "\n",
    "# Convert the list of positions into an OpenMM Quantity with units of nanometers\n",
    "positions = positions * unit.nanometer\n",
    "# Ensure the number of positions matches the number of atoms in the topology\n",
    "assert len(positions) == topology.getNumAtoms()\n",
    "# Set the periodic box vectors to create a cubic box with a length of 11 nm\n",
    "topology.setPeriodicBoxVectors(np.eye(3) * 11.0 * unit.nanometers)\n"
   ]
  },
  {
   "cell_type": "code",
   "execution_count": 6,
   "id": "d33a3b3e",
   "metadata": {},
   "outputs": [],
   "source": [
    "# output the initial configuration. Save it to a file\n",
    "with open('initial_config.pdb','w') as f:\n",
    "    app.PDBFile.writeFile(topology, positions, f)\n"
   ]
  },
  {
   "cell_type": "markdown",
   "id": "28192465",
   "metadata": {},
   "source": [
    "<center><img src=\"initial_state.png\" alt=\"Initial State\" width=\"400\"/></center>"
   ]
  },
  {
   "cell_type": "markdown",
   "id": "d820a338",
   "metadata": {},
   "source": [
    "At this point, we now move to OpenMM, and prepare the simulation."
   ]
  },
  {
   "cell_type": "code",
   "execution_count": 7,
   "id": "72f69890",
   "metadata": {},
   "outputs": [],
   "source": [
    "# create the system and add the particles to it\n",
    "system = mm.System()\n",
    "system.setDefaultPeriodicBoxVectors(*topology.getPeriodicBoxVectors())\n",
    "for atom in topology.atoms():\n",
    "    system.addParticle(atom.element.mass)"
   ]
  },
  {
   "cell_type": "markdown",
   "id": "fe0a8192",
   "metadata": {},
   "source": [
    "### Defining the Force Field\n",
    "\n",
    "This section summarizes the custom force field parameters used in the simulation. The interactions include bonded (bonds, angles) and non-bonded (van der Waals) terms.\n",
    "\n",
    "---\n",
    "\n",
    "#### **Bonds**\n",
    "\n",
    "Modeled as harmonic springs:\n",
    "\n",
    "$$\n",
    "U_{\\text{bond}}(r) = \\frac{1}{2} k_b (r - r_0)^2\n",
    "$$\n",
    "\n",
    "**Parameters**:\n",
    "- $r_0 = 0.38 \\, \\text{nm}$ (equilibrium bond length)  \n",
    "- $k_b = 1000 \\, \\text{kJ/mol/nm}^2$ (bond spring constant)\n",
    "\n",
    "---\n",
    "\n",
    "#### **Angles**\n",
    "\n",
    "Modeled using a cosine-based harmonic potential:\n",
    "\n",
    "$$\n",
    "U_{\\text{angle}}(\\theta) = \\frac{1}{2} k_a \\left( \\cos\\theta - \\cos\\theta_0 \\right)^2\n",
    "$$\n",
    "\n",
    "**Parameters**:\n",
    "- $\\theta_0 = 180^\\circ$ (equilibrium angle)  \n",
    "- $k_a = 10 \\, \\text{kJ/mol}$\n",
    "\n",
    "> This form avoids singularities near \\(180^\\circ\\) and is numerically stable.\n",
    "\n",
    "---\n",
    "\n",
    "#### **Non-Bonded Interactions**\n",
    "\n",
    "Modeled using the Lennard-Jones (LJ) potential:\n",
    "\n",
    "$$\n",
    "U_{\\text{LJ}}(r) = 4\\epsilon \\left[ \\left( \\frac{\\sigma}{r} \\right)^{12} - \\left( \\frac{\\sigma}{r} \\right)^6 \\right]\n",
    "$$\n",
    "\n",
    "**Parameters**:\n",
    "- $\\sigma = 0.5 \\, \\text{nm}$ (particle diameter)  \n",
    "- $\\epsilon = 1 \\, \\text{kJ/mol}$ (interaction strength)"
   ]
  },
  {
   "cell_type": "code",
   "execution_count": 8,
   "id": "fde86b63",
   "metadata": {},
   "outputs": [
    {
     "data": {
      "text/plain": [
       "1"
      ]
     },
     "execution_count": 8,
     "metadata": {},
     "output_type": "execute_result"
    }
   ],
   "source": [
    "harmonic_bond_force = mm.HarmonicBondForce()\n",
    "\n",
    "# Add each bond to the force from the topology\n",
    "for bond in topology.bonds():\n",
    "    harmonic_bond_force.addBond(bond.atom1.index, bond.atom2.index, 0.38, 1000)\n",
    "\n",
    "'''\n",
    "custom_angle = mm.CustomAngleForce(\"0.5*k*(cos(theta)-cos(theta0))^2\")\n",
    "custom_angle.addPerAngleParameter('k')\n",
    "custom_angle.addPerAngleParameter('theta0')\n",
    "# Loop through all chains and assign angles for each three bonded atoms\n",
    "for chain in topology.chains():\n",
    "    atoms = list(chain.atoms())\n",
    "    for i in range(len(atoms) - 2):\n",
    "        custom_angle.addAngle(atoms[i].index, atoms[i+1].index, atoms[i+2].index, [10, 3.14159])\n",
    "'''\n",
    "        \n",
    "# Define a Lennard-Jones potential\n",
    "expression = '4*epsilon*((sigma/r)^12-(sigma/r)^6);'\\\n",
    "            + ' sigma=0.5*(sigma1+sigma2);'\\\n",
    "            + ' epsilon=sqrt(epsilon1*epsilon2)'\n",
    "\n",
    "custom_nb_force = mm.CustomNonbondedForce(expression)\n",
    "\n",
    "custom_nb_force.addPerParticleParameter('sigma')\n",
    "custom_nb_force.addPerParticleParameter('epsilon')\n",
    "\n",
    "# Add the parameters for each particle\n",
    "for atom in topology.atoms():\n",
    "    custom_nb_force.addParticle([0.5, 1.0])\n",
    "\n",
    "# Create exclusions for directly bonded atoms\n",
    "custom_nb_force.createExclusionsFromBonds([(bond[0].index, bond[1].index) for bond in topology.bonds()], 1)\n",
    "\n",
    "# Set a cutoff of 1.5nm\n",
    "custom_nb_force.setNonbondedMethod(mm.CustomNonbondedForce.CutoffPeriodic)\n",
    "custom_nb_force.setCutoffDistance(1.5*unit.nanometers)\n",
    "\n",
    "# Add the forces to the system\n",
    "system.addForce(harmonic_bond_force)\n",
    "#system.addForce(custom_angle)\n",
    "system.addForce(custom_nb_force)"
   ]
  },
  {
   "cell_type": "code",
   "execution_count": 9,
   "id": "8c608789",
   "metadata": {},
   "outputs": [],
   "source": [
    "with open('system1.xml', 'w') as output:\n",
    "    output.write(mm.XmlSerializer.serialize(system))"
   ]
  },
  {
   "cell_type": "code",
   "execution_count": 10,
   "id": "b5c55233",
   "metadata": {},
   "outputs": [
    {
     "name": "stdout",
     "output_type": "stream",
     "text": [
      "#\"Step\",\"Potential Energy (kJ/mole)\",\"Temperature (K)\",\"Box Volume (nm^3)\",\"Speed (ns/day)\"\n",
      "1000,-2453.382788192481,190.58470681545617,1331.0,0\n",
      "2000,-2720.090639166534,227.2137301670289,1331.0,7.76e+03\n",
      "3000,-2625.9057470560074,230.86098169369495,1331.0,7.69e+03\n",
      "4000,-2626.5881546735764,241.5779562315645,1331.0,7.73e+03\n",
      "5000,-2577.7014751434326,251.7451373448813,1331.0,7.75e+03\n",
      "6000,-2517.820065975189,254.74070172210716,1331.0,7.77e+03\n",
      "7000,-2414.6818838119507,256.26347188495043,1331.0,7.78e+03\n",
      "8000,-2293.7195863723755,256.2833929320893,1331.0,7.78e+03\n",
      "9000,-2188.785840988159,258.75634833107773,1331.0,7.81e+03\n",
      "10000,-2205.5437321662903,274.0066829934392,1331.0,7.81e+03\n",
      "11000,-2143.363098859787,276.73157162848986,1277.2620912547507,6.81e+03\n",
      "12000,-2218.1778616905212,288.52972561459904,1206.2374862301833,6.1e+03\n",
      "13000,-2166.920965194702,285.4258446444209,1224.558073190987,5.69e+03\n",
      "14000,-2204.0869675278664,284.7227738156243,1093.843984476562,5.22e+03\n",
      "15000,-2159.6247301101685,285.8699798351212,1128.004340651257,4.83e+03\n",
      "16000,-2117.745961666107,280.33974838407187,972.8931021025539,4.58e+03\n",
      "17000,-2054.5286478996277,277.9748157265297,973.6158998302801,4.47e+03\n",
      "18000,-2180.393204689026,293.2769878423754,1004.0055239145944,4.46e+03\n",
      "19000,-2133.8824038505554,292.5933515109522,986.3646716557744,4.34e+03\n",
      "20000,-2081.430958032608,285.1699215824819,878.3492892876311,4.37e+03\n",
      "21000,-2121.69140958786,287.3888355948444,814.838687268843,4.41e+03\n",
      "22000,-2097.66056227684,286.90648782893,794.687913982915,4.44e+03\n",
      "23000,-2101.1950793266296,289.57640942484716,765.5639191573564,4.46e+03\n",
      "24000,-2151.2894144058228,283.38033478290066,697.9123380461309,4.49e+03\n",
      "25000,-2050.9565591812134,276.85732126155506,627.6790478945143,4.47e+03\n",
      "26000,-2220.4998874664307,290.8542008918078,587.7436181990334,4.48e+03\n",
      "27000,-1992.7474746704102,273.5738437067599,535.3233351758898,4.5e+03\n",
      "28000,-2175.683376789093,292.95605769707913,478.74079282587155,4.52e+03\n",
      "29000,-2203.265229701996,297.9640400956023,436.04446012018786,4.54e+03\n",
      "30000,-2115.0658435821533,287.7124466971179,396.8981782163142,4.56e+03\n",
      "31000,-2178.25586605072,288.29539112331213,367.09249322179966,4.58e+03\n",
      "32000,-2373.161256790161,306.5516058916994,324.8125428915519,4.59e+03\n",
      "33000,-2178.315757751465,292.7022850514019,305.54723667792393,4.6e+03\n",
      "34000,-2269.543920516968,294.8817691002941,282.41649796178643,4.61e+03\n",
      "35000,-2362.6867446899414,305.263551201807,265.00778647998106,4.62e+03\n",
      "36000,-2319.71768951416,302.02453140837065,252.75961953011154,4.59e+03\n",
      "37000,-2262.8747787475586,294.87505954958897,246.21263726487578,4.55e+03\n",
      "38000,-2438.8760261535645,308.4003922948585,233.04622625752802,4.55e+03\n",
      "39000,-2336.3393807411194,301.0289506410045,225.48068476453648,4.56e+03\n",
      "40000,-2444.7889728546143,306.6033828927106,208.86703133556713,4.51e+03\n",
      "41000,-2428.4678285121918,301.202497602527,207.49362159079357,4.44e+03\n",
      "42000,-2479.0151977539062,307.00184710840307,205.39950022789296,4.39e+03\n",
      "43000,-2443.3671255111694,299.1953314070106,197.0414075371835,4.36e+03\n",
      "44000,-2603.0577297210693,305.32096310134705,182.732130174485,4.33e+03\n",
      "45000,-2622.833709716797,313.96069368150967,175.38651895463744,4.29e+03\n",
      "46000,-2888.8429832458496,328.0169560701095,166.0258555854471,4.24e+03\n",
      "47000,-2720.5515327453613,310.4899883512353,166.4367981548507,4.24e+03\n",
      "48000,-2833.2044200897217,320.33765251418936,162.55543893072738,4.23e+03\n",
      "49000,-2829.7988662719727,317.43095578739104,163.02294269010767,4.19e+03\n",
      "50000,-2914.283203125,326.410302221416,160.4936081967011,4.2e+03\n",
      "51000,-2820.2819328308105,312.55803981062263,164.82075105503526,4.21e+03\n",
      "52000,-2961.0496883392334,314.22086705571013,160.87568788910582,4.22e+03\n",
      "53000,-2936.8925275802612,307.7696621813527,161.1568121645423,4.21e+03\n",
      "54000,-2992.181137084961,317.85939892134377,159.2753413418468,4.15e+03\n",
      "55000,-3105.1192321777344,319.5225632417892,154.45655511509423,4.09e+03\n",
      "56000,-3169.2822699546814,310.9701284829398,153.87555822939592,4.06e+03\n",
      "57000,-3242.945230484009,312.9741964774192,151.01473337990015,4.05e+03\n",
      "58000,-3262.110580444336,304.7512193541051,150.4510494711287,4.06e+03\n",
      "59000,-3266.5396404266357,306.1870546965343,149.74425149745238,4.04e+03\n",
      "60000,-3277.6162433624268,309.0115139986414,149.232730747286,4e+03\n",
      "61000,-3200.7873697280884,305.68778160185275,155.71834400570944,3.97e+03\n",
      "62000,-3139.271511077881,303.3264159064676,158.1994634975839,3.94e+03\n",
      "63000,-3071.3377532958984,311.0484678423723,154.8162656086676,3.93e+03\n",
      "64000,-3119.107397079468,313.2816725717317,155.2875051575753,3.91e+03\n",
      "65000,-3071.0376510620117,309.6105019145733,156.61698490084623,3.9e+03\n",
      "66000,-3137.043595314026,318.89565556617623,152.616876401048,3.9e+03\n",
      "67000,-2994.786241531372,313.0960391006467,157.26517046066363,3.88e+03\n",
      "68000,-3006.4214267730713,311.5528452876681,155.53201714249553,3.86e+03\n",
      "69000,-2977.573811531067,314.5898881818864,158.0599513546745,3.85e+03\n",
      "70000,-2993.676200866699,309.89234780014385,157.63963482054228,3.84e+03\n",
      "71000,-3104.9654903411865,316.8008313150046,153.93007759846188,3.83e+03\n",
      "72000,-3147.4905548095703,317.4010749534252,154.8559562677855,3.84e+03\n",
      "73000,-3151.1037406921387,315.0057223686101,154.01081619247827,3.83e+03\n",
      "74000,-3170.9741230010986,298.53605697596385,153.50191535550283,3.83e+03\n",
      "75000,-3219.7048873901367,305.6126784012021,153.30854653061397,3.83e+03\n",
      "76000,-3192.9903774261475,301.5470765116195,154.4030567425774,3.81e+03\n",
      "77000,-3048.6560916900635,292.9148853852421,158.183220565106,3.82e+03\n",
      "78000,-3239.1073837280273,304.423804754034,155.11705511981117,3.83e+03\n",
      "79000,-3093.0863933563232,291.6244304494098,154.69028532941928,3.82e+03\n",
      "80000,-3343.713988304138,309.5747006736266,149.92036466517018,3.81e+03\n",
      "81000,-3253.4743824005127,299.0819127316267,150.67393075205038,3.78e+03\n",
      "82000,-3469.6473064422607,311.1370206436063,146.75058937103216,3.77e+03\n",
      "83000,-3265.7306566238403,289.99637818650183,151.99539421974842,3.75e+03\n",
      "84000,-3384.0631580352783,307.970442213905,148.01813908626372,3.75e+03\n",
      "85000,-3504.5285148620605,313.52607262311636,145.45416845976837,3.76e+03\n",
      "86000,-3315.03689289093,300.4648027268049,147.57289480213143,3.77e+03\n",
      "87000,-3258.727991104126,301.87922252510026,150.8323255139819,3.78e+03\n",
      "88000,-3364.843572616577,303.763225272029,148.62945424558373,3.79e+03\n",
      "89000,-3565.5120792388916,321.17693408953795,143.75002136879698,3.77e+03\n",
      "90000,-3453.3056058883667,310.21451365145094,144.22240998559502,3.77e+03\n",
      "91000,-3419.7906036376953,312.5481649476836,148.71005217022199,3.76e+03\n",
      "92000,-3219.0535469055176,291.43894621478086,152.8549587589489,3.74e+03\n",
      "93000,-3551.9724102020264,321.65370956195665,145.65746456117134,3.73e+03\n",
      "94000,-3343.4806413650513,303.78236681752367,149.82041541828156,3.72e+03\n",
      "95000,-3243.8638439178467,296.1646561309031,150.03138877407216,3.73e+03\n",
      "96000,-3287.3796825408936,297.7175116008322,151.19817155849398,3.74e+03\n",
      "97000,-3223.453884124756,292.94359285180883,150.4140584232091,3.75e+03\n",
      "98000,-3426.5873374938965,303.45827021278154,146.43751790629534,3.72e+03\n",
      "99000,-3381.743661880493,299.6331917884789,146.1626766887542,3.72e+03\n",
      "100000,-3312.2186250686646,293.94724568941405,151.34539869091796,3.73e+03\n",
      "101000,-3417.5571937561035,308.0612656498604,144.89569051295175,3.72e+03\n",
      "102000,-3350.472494125366,301.60127225509683,149.61199336889075,3.73e+03\n",
      "103000,-3274.553201675415,296.69398793611055,151.118045975857,3.74e+03\n",
      "104000,-3424.6429023742676,310.2430392896242,144.76933749788955,3.75e+03\n",
      "105000,-3477.6779251098633,314.4804665795417,146.38245644963138,3.76e+03\n",
      "106000,-3468.5273246765137,305.92816131743416,143.58205206264643,3.77e+03\n",
      "107000,-3424.3807468414307,303.0770031348421,147.27651739664793,3.78e+03\n",
      "108000,-3403.065912246704,303.2649435760389,147.34878543290748,3.79e+03\n",
      "109000,-3345.9668502807617,299.16111196532364,148.01175623753053,3.8e+03\n",
      "110000,-3372.9280738830566,299.9194001407952,146.46496813631668,3.81e+03\n"
     ]
    }
   ],
   "source": [
    "#Running the simulation - very similar to proein-in_water simulation\n",
    "integrator = mm.LangevinMiddleIntegrator(300*unit.kelvin, 0.01/unit.picosecond, 0.010*unit.picoseconds)\n",
    "simulation = app.Simulation(topology, system, integrator)\n",
    "simulation.context.setPositions(positions)\n",
    "\n",
    "# setup simulation reporters\n",
    "# Write the trajectory to a file called 'traj.dcd'\n",
    "simulation.reporters.append(app.DCDReporter('traj.dcd', 1000, enforcePeriodicBox=True))\n",
    "\n",
    "# Report information to the screen as the simulation runs\n",
    "simulation.reporters.append(app.StateDataReporter(stdout, 1000, step=True,\n",
    "        potentialEnergy=True, temperature=True, volume=True, speed=True))\n",
    "\n",
    "\n",
    "# NVT equilibration\n",
    "simulation.step(10000)\n",
    "# Add a barostat\n",
    "barostatIndex=system.addForce(mm.MonteCarloBarostat(1.0*unit.bar, 300*unit.kelvin))\n",
    "simulation.context.reinitialize(preserveState=True)\n",
    "# Run NPT equilibration\n",
    "simulation.step(100000)\n",
    "\n",
    "\n",
    "# output the equilibrated configuration\n",
    "with open('equilibrated_config.pdb','w') as f:\n",
    "    state = simulation.context.getState(getPositions=True, enforcePeriodicBox=True)\n",
    "    topology.setPeriodicBoxVectors(state.getPeriodicBoxVectors())\n",
    "    app.PDBFile.writeFile(topology, state.getPositions(), f)\n"
   ]
  },
  {
   "cell_type": "markdown",
   "id": "bf3a283d",
   "metadata": {},
   "source": [
    "<center><img src=\"final_state.png\" alt=\"Final State\" width=\"400\"/></center>"
   ]
  },
  {
   "cell_type": "code",
   "execution_count": null,
   "id": "cbc90b34",
   "metadata": {},
   "outputs": [],
   "source": []
  }
 ],
 "metadata": {
  "kernelspec": {
   "display_name": "base",
   "language": "python",
   "name": "python3"
  },
  "language_info": {
   "codemirror_mode": {
    "name": "ipython",
    "version": 3
   },
   "file_extension": ".py",
   "mimetype": "text/x-python",
   "name": "python",
   "nbconvert_exporter": "python",
   "pygments_lexer": "ipython3",
   "version": "3.12.6"
  }
 },
 "nbformat": 4,
 "nbformat_minor": 5
}
